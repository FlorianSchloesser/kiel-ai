{
  "nbformat": 4,
  "nbformat_minor": 0,
  "metadata": {
    "colab": {
      "name": "HF Datasets Library Examples.ipynb",
      "provenance": [],
      "collapsed_sections": []
    },
    "kernelspec": {
      "name": "python3",
      "display_name": "Python 3"
    },
    "language_info": {
      "name": "python"
    },
    "widgets": {
      "application/vnd.jupyter.widget-state+json": {
        "dc94957259ae414281e48f2339f5ed28": {
          "model_module": "@jupyter-widgets/controls",
          "model_name": "HBoxModel",
          "model_module_version": "1.5.0",
          "state": {
            "_view_name": "HBoxView",
            "_dom_classes": [],
            "_model_name": "HBoxModel",
            "_view_module": "@jupyter-widgets/controls",
            "_model_module_version": "1.5.0",
            "_view_count": null,
            "_view_module_version": "1.5.0",
            "box_style": "",
            "layout": "IPY_MODEL_638f5c30818f4c949e65f8f282c6dfe7",
            "_model_module": "@jupyter-widgets/controls",
            "children": [
              "IPY_MODEL_c3b470fd0e6c483e8314065763756ffc",
              "IPY_MODEL_a6848e08c8244182ab13c406709d5fb0",
              "IPY_MODEL_96ed785736224223adbfe304322e8cc2"
            ]
          }
        },
        "638f5c30818f4c949e65f8f282c6dfe7": {
          "model_module": "@jupyter-widgets/base",
          "model_name": "LayoutModel",
          "model_module_version": "1.2.0",
          "state": {
            "_view_name": "LayoutView",
            "grid_template_rows": null,
            "right": null,
            "justify_content": null,
            "_view_module": "@jupyter-widgets/base",
            "overflow": null,
            "_model_module_version": "1.2.0",
            "_view_count": null,
            "flex_flow": null,
            "width": null,
            "min_width": null,
            "border": null,
            "align_items": null,
            "bottom": null,
            "_model_module": "@jupyter-widgets/base",
            "top": null,
            "grid_column": null,
            "overflow_y": null,
            "overflow_x": null,
            "grid_auto_flow": null,
            "grid_area": null,
            "grid_template_columns": null,
            "flex": null,
            "_model_name": "LayoutModel",
            "justify_items": null,
            "grid_row": null,
            "max_height": null,
            "align_content": null,
            "visibility": null,
            "align_self": null,
            "height": null,
            "min_height": null,
            "padding": null,
            "grid_auto_rows": null,
            "grid_gap": null,
            "max_width": null,
            "order": null,
            "_view_module_version": "1.2.0",
            "grid_template_areas": null,
            "object_position": null,
            "object_fit": null,
            "grid_auto_columns": null,
            "margin": null,
            "display": null,
            "left": null
          }
        },
        "c3b470fd0e6c483e8314065763756ffc": {
          "model_module": "@jupyter-widgets/controls",
          "model_name": "HTMLModel",
          "model_module_version": "1.5.0",
          "state": {
            "_view_name": "HTMLView",
            "style": "IPY_MODEL_7103a2d3520e4682a1773b7b65b4e930",
            "_dom_classes": [],
            "description": "",
            "_model_name": "HTMLModel",
            "placeholder": "​",
            "_view_module": "@jupyter-widgets/controls",
            "_model_module_version": "1.5.0",
            "value": "100%",
            "_view_count": null,
            "_view_module_version": "1.5.0",
            "description_tooltip": null,
            "_model_module": "@jupyter-widgets/controls",
            "layout": "IPY_MODEL_6518df4442bd4f2984b0337ad606c93c"
          }
        },
        "a6848e08c8244182ab13c406709d5fb0": {
          "model_module": "@jupyter-widgets/controls",
          "model_name": "FloatProgressModel",
          "model_module_version": "1.5.0",
          "state": {
            "_view_name": "ProgressView",
            "style": "IPY_MODEL_a265b11ff01c4baea73dfd0c803d2c40",
            "_dom_classes": [],
            "description": "",
            "_model_name": "FloatProgressModel",
            "bar_style": "success",
            "max": 2,
            "_view_module": "@jupyter-widgets/controls",
            "_model_module_version": "1.5.0",
            "value": 2,
            "_view_count": null,
            "_view_module_version": "1.5.0",
            "orientation": "horizontal",
            "min": 0,
            "description_tooltip": null,
            "_model_module": "@jupyter-widgets/controls",
            "layout": "IPY_MODEL_b59e672afbd44e67bbb9ab8b62538afd"
          }
        },
        "96ed785736224223adbfe304322e8cc2": {
          "model_module": "@jupyter-widgets/controls",
          "model_name": "HTMLModel",
          "model_module_version": "1.5.0",
          "state": {
            "_view_name": "HTMLView",
            "style": "IPY_MODEL_df767548173f438088849fbb1194c02e",
            "_dom_classes": [],
            "description": "",
            "_model_name": "HTMLModel",
            "placeholder": "​",
            "_view_module": "@jupyter-widgets/controls",
            "_model_module_version": "1.5.0",
            "value": " 2/2 [00:00&lt;00:00, 27.62it/s]",
            "_view_count": null,
            "_view_module_version": "1.5.0",
            "description_tooltip": null,
            "_model_module": "@jupyter-widgets/controls",
            "layout": "IPY_MODEL_254f3ccf3c9c40808a2184767c380a7e"
          }
        },
        "7103a2d3520e4682a1773b7b65b4e930": {
          "model_module": "@jupyter-widgets/controls",
          "model_name": "DescriptionStyleModel",
          "model_module_version": "1.5.0",
          "state": {
            "_view_name": "StyleView",
            "_model_name": "DescriptionStyleModel",
            "description_width": "",
            "_view_module": "@jupyter-widgets/base",
            "_model_module_version": "1.5.0",
            "_view_count": null,
            "_view_module_version": "1.2.0",
            "_model_module": "@jupyter-widgets/controls"
          }
        },
        "6518df4442bd4f2984b0337ad606c93c": {
          "model_module": "@jupyter-widgets/base",
          "model_name": "LayoutModel",
          "model_module_version": "1.2.0",
          "state": {
            "_view_name": "LayoutView",
            "grid_template_rows": null,
            "right": null,
            "justify_content": null,
            "_view_module": "@jupyter-widgets/base",
            "overflow": null,
            "_model_module_version": "1.2.0",
            "_view_count": null,
            "flex_flow": null,
            "width": null,
            "min_width": null,
            "border": null,
            "align_items": null,
            "bottom": null,
            "_model_module": "@jupyter-widgets/base",
            "top": null,
            "grid_column": null,
            "overflow_y": null,
            "overflow_x": null,
            "grid_auto_flow": null,
            "grid_area": null,
            "grid_template_columns": null,
            "flex": null,
            "_model_name": "LayoutModel",
            "justify_items": null,
            "grid_row": null,
            "max_height": null,
            "align_content": null,
            "visibility": null,
            "align_self": null,
            "height": null,
            "min_height": null,
            "padding": null,
            "grid_auto_rows": null,
            "grid_gap": null,
            "max_width": null,
            "order": null,
            "_view_module_version": "1.2.0",
            "grid_template_areas": null,
            "object_position": null,
            "object_fit": null,
            "grid_auto_columns": null,
            "margin": null,
            "display": null,
            "left": null
          }
        },
        "a265b11ff01c4baea73dfd0c803d2c40": {
          "model_module": "@jupyter-widgets/controls",
          "model_name": "ProgressStyleModel",
          "model_module_version": "1.5.0",
          "state": {
            "_view_name": "StyleView",
            "_model_name": "ProgressStyleModel",
            "description_width": "",
            "_view_module": "@jupyter-widgets/base",
            "_model_module_version": "1.5.0",
            "_view_count": null,
            "_view_module_version": "1.2.0",
            "bar_color": null,
            "_model_module": "@jupyter-widgets/controls"
          }
        },
        "b59e672afbd44e67bbb9ab8b62538afd": {
          "model_module": "@jupyter-widgets/base",
          "model_name": "LayoutModel",
          "model_module_version": "1.2.0",
          "state": {
            "_view_name": "LayoutView",
            "grid_template_rows": null,
            "right": null,
            "justify_content": null,
            "_view_module": "@jupyter-widgets/base",
            "overflow": null,
            "_model_module_version": "1.2.0",
            "_view_count": null,
            "flex_flow": null,
            "width": null,
            "min_width": null,
            "border": null,
            "align_items": null,
            "bottom": null,
            "_model_module": "@jupyter-widgets/base",
            "top": null,
            "grid_column": null,
            "overflow_y": null,
            "overflow_x": null,
            "grid_auto_flow": null,
            "grid_area": null,
            "grid_template_columns": null,
            "flex": null,
            "_model_name": "LayoutModel",
            "justify_items": null,
            "grid_row": null,
            "max_height": null,
            "align_content": null,
            "visibility": null,
            "align_self": null,
            "height": null,
            "min_height": null,
            "padding": null,
            "grid_auto_rows": null,
            "grid_gap": null,
            "max_width": null,
            "order": null,
            "_view_module_version": "1.2.0",
            "grid_template_areas": null,
            "object_position": null,
            "object_fit": null,
            "grid_auto_columns": null,
            "margin": null,
            "display": null,
            "left": null
          }
        },
        "df767548173f438088849fbb1194c02e": {
          "model_module": "@jupyter-widgets/controls",
          "model_name": "DescriptionStyleModel",
          "model_module_version": "1.5.0",
          "state": {
            "_view_name": "StyleView",
            "_model_name": "DescriptionStyleModel",
            "description_width": "",
            "_view_module": "@jupyter-widgets/base",
            "_model_module_version": "1.5.0",
            "_view_count": null,
            "_view_module_version": "1.2.0",
            "_model_module": "@jupyter-widgets/controls"
          }
        },
        "254f3ccf3c9c40808a2184767c380a7e": {
          "model_module": "@jupyter-widgets/base",
          "model_name": "LayoutModel",
          "model_module_version": "1.2.0",
          "state": {
            "_view_name": "LayoutView",
            "grid_template_rows": null,
            "right": null,
            "justify_content": null,
            "_view_module": "@jupyter-widgets/base",
            "overflow": null,
            "_model_module_version": "1.2.0",
            "_view_count": null,
            "flex_flow": null,
            "width": null,
            "min_width": null,
            "border": null,
            "align_items": null,
            "bottom": null,
            "_model_module": "@jupyter-widgets/base",
            "top": null,
            "grid_column": null,
            "overflow_y": null,
            "overflow_x": null,
            "grid_auto_flow": null,
            "grid_area": null,
            "grid_template_columns": null,
            "flex": null,
            "_model_name": "LayoutModel",
            "justify_items": null,
            "grid_row": null,
            "max_height": null,
            "align_content": null,
            "visibility": null,
            "align_self": null,
            "height": null,
            "min_height": null,
            "padding": null,
            "grid_auto_rows": null,
            "grid_gap": null,
            "max_width": null,
            "order": null,
            "_view_module_version": "1.2.0",
            "grid_template_areas": null,
            "object_position": null,
            "object_fit": null,
            "grid_auto_columns": null,
            "margin": null,
            "display": null,
            "left": null
          }
        },
        "1334823b313644579475ed4f658c98b2": {
          "model_module": "@jupyter-widgets/controls",
          "model_name": "HBoxModel",
          "model_module_version": "1.5.0",
          "state": {
            "_view_name": "HBoxView",
            "_dom_classes": [],
            "_model_name": "HBoxModel",
            "_view_module": "@jupyter-widgets/controls",
            "_model_module_version": "1.5.0",
            "_view_count": null,
            "_view_module_version": "1.5.0",
            "box_style": "",
            "layout": "IPY_MODEL_d4076ece7786496c86c71d35b56704a3",
            "_model_module": "@jupyter-widgets/controls",
            "children": [
              "IPY_MODEL_96843d38f19044348aa2dd741f37065e",
              "IPY_MODEL_30912622c6b34d7491c39f557c3a2234",
              "IPY_MODEL_1c404dfcfe2a431db31c1050fd38bff2"
            ]
          }
        },
        "d4076ece7786496c86c71d35b56704a3": {
          "model_module": "@jupyter-widgets/base",
          "model_name": "LayoutModel",
          "model_module_version": "1.2.0",
          "state": {
            "_view_name": "LayoutView",
            "grid_template_rows": null,
            "right": null,
            "justify_content": null,
            "_view_module": "@jupyter-widgets/base",
            "overflow": null,
            "_model_module_version": "1.2.0",
            "_view_count": null,
            "flex_flow": null,
            "width": null,
            "min_width": null,
            "border": null,
            "align_items": null,
            "bottom": null,
            "_model_module": "@jupyter-widgets/base",
            "top": null,
            "grid_column": null,
            "overflow_y": null,
            "overflow_x": null,
            "grid_auto_flow": null,
            "grid_area": null,
            "grid_template_columns": null,
            "flex": null,
            "_model_name": "LayoutModel",
            "justify_items": null,
            "grid_row": null,
            "max_height": null,
            "align_content": null,
            "visibility": null,
            "align_self": null,
            "height": null,
            "min_height": null,
            "padding": null,
            "grid_auto_rows": null,
            "grid_gap": null,
            "max_width": null,
            "order": null,
            "_view_module_version": "1.2.0",
            "grid_template_areas": null,
            "object_position": null,
            "object_fit": null,
            "grid_auto_columns": null,
            "margin": null,
            "display": null,
            "left": null
          }
        },
        "96843d38f19044348aa2dd741f37065e": {
          "model_module": "@jupyter-widgets/controls",
          "model_name": "HTMLModel",
          "model_module_version": "1.5.0",
          "state": {
            "_view_name": "HTMLView",
            "style": "IPY_MODEL_7784181132294022a57cf35f58561639",
            "_dom_classes": [],
            "description": "",
            "_model_name": "HTMLModel",
            "placeholder": "​",
            "_view_module": "@jupyter-widgets/controls",
            "_model_module_version": "1.5.0",
            "value": "100%",
            "_view_count": null,
            "_view_module_version": "1.5.0",
            "description_tooltip": null,
            "_model_module": "@jupyter-widgets/controls",
            "layout": "IPY_MODEL_df7c40d4ebc24a96a049b0f7cddfe3b5"
          }
        },
        "30912622c6b34d7491c39f557c3a2234": {
          "model_module": "@jupyter-widgets/controls",
          "model_name": "FloatProgressModel",
          "model_module_version": "1.5.0",
          "state": {
            "_view_name": "ProgressView",
            "style": "IPY_MODEL_168e3ff44f0f48ebabfbc938a5e9c40e",
            "_dom_classes": [],
            "description": "",
            "_model_name": "FloatProgressModel",
            "bar_style": "success",
            "max": 160398,
            "_view_module": "@jupyter-widgets/controls",
            "_model_module_version": "1.5.0",
            "value": 160398,
            "_view_count": null,
            "_view_module_version": "1.5.0",
            "orientation": "horizontal",
            "min": 0,
            "description_tooltip": null,
            "_model_module": "@jupyter-widgets/controls",
            "layout": "IPY_MODEL_62f656cd1094453284910c8fa78b2073"
          }
        },
        "1c404dfcfe2a431db31c1050fd38bff2": {
          "model_module": "@jupyter-widgets/controls",
          "model_name": "HTMLModel",
          "model_module_version": "1.5.0",
          "state": {
            "_view_name": "HTMLView",
            "style": "IPY_MODEL_fa578b6872bf4e11a440ef4e0b8a4eec",
            "_dom_classes": [],
            "description": "",
            "_model_name": "HTMLModel",
            "placeholder": "​",
            "_view_module": "@jupyter-widgets/controls",
            "_model_module_version": "1.5.0",
            "value": " 160398/160398 [00:28&lt;00:00, 5871.71ex/s]",
            "_view_count": null,
            "_view_module_version": "1.5.0",
            "description_tooltip": null,
            "_model_module": "@jupyter-widgets/controls",
            "layout": "IPY_MODEL_935f4695e4dc4f54940e8ba4bed15f93"
          }
        },
        "7784181132294022a57cf35f58561639": {
          "model_module": "@jupyter-widgets/controls",
          "model_name": "DescriptionStyleModel",
          "model_module_version": "1.5.0",
          "state": {
            "_view_name": "StyleView",
            "_model_name": "DescriptionStyleModel",
            "description_width": "",
            "_view_module": "@jupyter-widgets/base",
            "_model_module_version": "1.5.0",
            "_view_count": null,
            "_view_module_version": "1.2.0",
            "_model_module": "@jupyter-widgets/controls"
          }
        },
        "df7c40d4ebc24a96a049b0f7cddfe3b5": {
          "model_module": "@jupyter-widgets/base",
          "model_name": "LayoutModel",
          "model_module_version": "1.2.0",
          "state": {
            "_view_name": "LayoutView",
            "grid_template_rows": null,
            "right": null,
            "justify_content": null,
            "_view_module": "@jupyter-widgets/base",
            "overflow": null,
            "_model_module_version": "1.2.0",
            "_view_count": null,
            "flex_flow": null,
            "width": null,
            "min_width": null,
            "border": null,
            "align_items": null,
            "bottom": null,
            "_model_module": "@jupyter-widgets/base",
            "top": null,
            "grid_column": null,
            "overflow_y": null,
            "overflow_x": null,
            "grid_auto_flow": null,
            "grid_area": null,
            "grid_template_columns": null,
            "flex": null,
            "_model_name": "LayoutModel",
            "justify_items": null,
            "grid_row": null,
            "max_height": null,
            "align_content": null,
            "visibility": null,
            "align_self": null,
            "height": null,
            "min_height": null,
            "padding": null,
            "grid_auto_rows": null,
            "grid_gap": null,
            "max_width": null,
            "order": null,
            "_view_module_version": "1.2.0",
            "grid_template_areas": null,
            "object_position": null,
            "object_fit": null,
            "grid_auto_columns": null,
            "margin": null,
            "display": null,
            "left": null
          }
        },
        "168e3ff44f0f48ebabfbc938a5e9c40e": {
          "model_module": "@jupyter-widgets/controls",
          "model_name": "ProgressStyleModel",
          "model_module_version": "1.5.0",
          "state": {
            "_view_name": "StyleView",
            "_model_name": "ProgressStyleModel",
            "description_width": "",
            "_view_module": "@jupyter-widgets/base",
            "_model_module_version": "1.5.0",
            "_view_count": null,
            "_view_module_version": "1.2.0",
            "bar_color": null,
            "_model_module": "@jupyter-widgets/controls"
          }
        },
        "62f656cd1094453284910c8fa78b2073": {
          "model_module": "@jupyter-widgets/base",
          "model_name": "LayoutModel",
          "model_module_version": "1.2.0",
          "state": {
            "_view_name": "LayoutView",
            "grid_template_rows": null,
            "right": null,
            "justify_content": null,
            "_view_module": "@jupyter-widgets/base",
            "overflow": null,
            "_model_module_version": "1.2.0",
            "_view_count": null,
            "flex_flow": null,
            "width": null,
            "min_width": null,
            "border": null,
            "align_items": null,
            "bottom": null,
            "_model_module": "@jupyter-widgets/base",
            "top": null,
            "grid_column": null,
            "overflow_y": null,
            "overflow_x": null,
            "grid_auto_flow": null,
            "grid_area": null,
            "grid_template_columns": null,
            "flex": null,
            "_model_name": "LayoutModel",
            "justify_items": null,
            "grid_row": null,
            "max_height": null,
            "align_content": null,
            "visibility": null,
            "align_self": null,
            "height": null,
            "min_height": null,
            "padding": null,
            "grid_auto_rows": null,
            "grid_gap": null,
            "max_width": null,
            "order": null,
            "_view_module_version": "1.2.0",
            "grid_template_areas": null,
            "object_position": null,
            "object_fit": null,
            "grid_auto_columns": null,
            "margin": null,
            "display": null,
            "left": null
          }
        },
        "fa578b6872bf4e11a440ef4e0b8a4eec": {
          "model_module": "@jupyter-widgets/controls",
          "model_name": "DescriptionStyleModel",
          "model_module_version": "1.5.0",
          "state": {
            "_view_name": "StyleView",
            "_model_name": "DescriptionStyleModel",
            "description_width": "",
            "_view_module": "@jupyter-widgets/base",
            "_model_module_version": "1.5.0",
            "_view_count": null,
            "_view_module_version": "1.2.0",
            "_model_module": "@jupyter-widgets/controls"
          }
        },
        "935f4695e4dc4f54940e8ba4bed15f93": {
          "model_module": "@jupyter-widgets/base",
          "model_name": "LayoutModel",
          "model_module_version": "1.2.0",
          "state": {
            "_view_name": "LayoutView",
            "grid_template_rows": null,
            "right": null,
            "justify_content": null,
            "_view_module": "@jupyter-widgets/base",
            "overflow": null,
            "_model_module_version": "1.2.0",
            "_view_count": null,
            "flex_flow": null,
            "width": null,
            "min_width": null,
            "border": null,
            "align_items": null,
            "bottom": null,
            "_model_module": "@jupyter-widgets/base",
            "top": null,
            "grid_column": null,
            "overflow_y": null,
            "overflow_x": null,
            "grid_auto_flow": null,
            "grid_area": null,
            "grid_template_columns": null,
            "flex": null,
            "_model_name": "LayoutModel",
            "justify_items": null,
            "grid_row": null,
            "max_height": null,
            "align_content": null,
            "visibility": null,
            "align_self": null,
            "height": null,
            "min_height": null,
            "padding": null,
            "grid_auto_rows": null,
            "grid_gap": null,
            "max_width": null,
            "order": null,
            "_view_module_version": "1.2.0",
            "grid_template_areas": null,
            "object_position": null,
            "object_fit": null,
            "grid_auto_columns": null,
            "margin": null,
            "display": null,
            "left": null
          }
        },
        "a112709853c84f3c9bb2c6ea7ed1f138": {
          "model_module": "@jupyter-widgets/controls",
          "model_name": "HBoxModel",
          "model_module_version": "1.5.0",
          "state": {
            "_view_name": "HBoxView",
            "_dom_classes": [],
            "_model_name": "HBoxModel",
            "_view_module": "@jupyter-widgets/controls",
            "_model_module_version": "1.5.0",
            "_view_count": null,
            "_view_module_version": "1.5.0",
            "box_style": "",
            "layout": "IPY_MODEL_5bf4925f86604cbba1143ee3e5d26d5d",
            "_model_module": "@jupyter-widgets/controls",
            "children": [
              "IPY_MODEL_1ee0d84316e240f8baf9541bf6ac52ae",
              "IPY_MODEL_e6ccbe55578e4130b37cb1859259de1d",
              "IPY_MODEL_ab13e4f4e3d9475d96224d3f19f0909d"
            ]
          }
        },
        "5bf4925f86604cbba1143ee3e5d26d5d": {
          "model_module": "@jupyter-widgets/base",
          "model_name": "LayoutModel",
          "model_module_version": "1.2.0",
          "state": {
            "_view_name": "LayoutView",
            "grid_template_rows": null,
            "right": null,
            "justify_content": null,
            "_view_module": "@jupyter-widgets/base",
            "overflow": null,
            "_model_module_version": "1.2.0",
            "_view_count": null,
            "flex_flow": null,
            "width": null,
            "min_width": null,
            "border": null,
            "align_items": null,
            "bottom": null,
            "_model_module": "@jupyter-widgets/base",
            "top": null,
            "grid_column": null,
            "overflow_y": null,
            "overflow_x": null,
            "grid_auto_flow": null,
            "grid_area": null,
            "grid_template_columns": null,
            "flex": null,
            "_model_name": "LayoutModel",
            "justify_items": null,
            "grid_row": null,
            "max_height": null,
            "align_content": null,
            "visibility": null,
            "align_self": null,
            "height": null,
            "min_height": null,
            "padding": null,
            "grid_auto_rows": null,
            "grid_gap": null,
            "max_width": null,
            "order": null,
            "_view_module_version": "1.2.0",
            "grid_template_areas": null,
            "object_position": null,
            "object_fit": null,
            "grid_auto_columns": null,
            "margin": null,
            "display": null,
            "left": null
          }
        },
        "1ee0d84316e240f8baf9541bf6ac52ae": {
          "model_module": "@jupyter-widgets/controls",
          "model_name": "HTMLModel",
          "model_module_version": "1.5.0",
          "state": {
            "_view_name": "HTMLView",
            "style": "IPY_MODEL_33879c8845584464ae0b54cfdac0af49",
            "_dom_classes": [],
            "description": "",
            "_model_name": "HTMLModel",
            "placeholder": "​",
            "_view_module": "@jupyter-widgets/controls",
            "_model_module_version": "1.5.0",
            "value": "100%",
            "_view_count": null,
            "_view_module_version": "1.5.0",
            "description_tooltip": null,
            "_model_module": "@jupyter-widgets/controls",
            "layout": "IPY_MODEL_61a16b93b0b14ac1a895c4f49677c2ed"
          }
        },
        "e6ccbe55578e4130b37cb1859259de1d": {
          "model_module": "@jupyter-widgets/controls",
          "model_name": "FloatProgressModel",
          "model_module_version": "1.5.0",
          "state": {
            "_view_name": "ProgressView",
            "style": "IPY_MODEL_4b4dd7c4bb994cd28d2487f293a0bf0a",
            "_dom_classes": [],
            "description": "",
            "_model_name": "FloatProgressModel",
            "bar_style": "success",
            "max": 53471,
            "_view_module": "@jupyter-widgets/controls",
            "_model_module_version": "1.5.0",
            "value": 53471,
            "_view_count": null,
            "_view_module_version": "1.5.0",
            "orientation": "horizontal",
            "min": 0,
            "description_tooltip": null,
            "_model_module": "@jupyter-widgets/controls",
            "layout": "IPY_MODEL_18fdcffe3c274feeb7e0f3ad15d42f1b"
          }
        },
        "ab13e4f4e3d9475d96224d3f19f0909d": {
          "model_module": "@jupyter-widgets/controls",
          "model_name": "HTMLModel",
          "model_module_version": "1.5.0",
          "state": {
            "_view_name": "HTMLView",
            "style": "IPY_MODEL_14145cc942db4f7bbd0f5bf026e65269",
            "_dom_classes": [],
            "description": "",
            "_model_name": "HTMLModel",
            "placeholder": "​",
            "_view_module": "@jupyter-widgets/controls",
            "_model_module_version": "1.5.0",
            "value": " 53471/53471 [00:09&lt;00:00, 5827.22ex/s]",
            "_view_count": null,
            "_view_module_version": "1.5.0",
            "description_tooltip": null,
            "_model_module": "@jupyter-widgets/controls",
            "layout": "IPY_MODEL_df64a5c0510442698943e2dbf713ebb7"
          }
        },
        "33879c8845584464ae0b54cfdac0af49": {
          "model_module": "@jupyter-widgets/controls",
          "model_name": "DescriptionStyleModel",
          "model_module_version": "1.5.0",
          "state": {
            "_view_name": "StyleView",
            "_model_name": "DescriptionStyleModel",
            "description_width": "",
            "_view_module": "@jupyter-widgets/base",
            "_model_module_version": "1.5.0",
            "_view_count": null,
            "_view_module_version": "1.2.0",
            "_model_module": "@jupyter-widgets/controls"
          }
        },
        "61a16b93b0b14ac1a895c4f49677c2ed": {
          "model_module": "@jupyter-widgets/base",
          "model_name": "LayoutModel",
          "model_module_version": "1.2.0",
          "state": {
            "_view_name": "LayoutView",
            "grid_template_rows": null,
            "right": null,
            "justify_content": null,
            "_view_module": "@jupyter-widgets/base",
            "overflow": null,
            "_model_module_version": "1.2.0",
            "_view_count": null,
            "flex_flow": null,
            "width": null,
            "min_width": null,
            "border": null,
            "align_items": null,
            "bottom": null,
            "_model_module": "@jupyter-widgets/base",
            "top": null,
            "grid_column": null,
            "overflow_y": null,
            "overflow_x": null,
            "grid_auto_flow": null,
            "grid_area": null,
            "grid_template_columns": null,
            "flex": null,
            "_model_name": "LayoutModel",
            "justify_items": null,
            "grid_row": null,
            "max_height": null,
            "align_content": null,
            "visibility": null,
            "align_self": null,
            "height": null,
            "min_height": null,
            "padding": null,
            "grid_auto_rows": null,
            "grid_gap": null,
            "max_width": null,
            "order": null,
            "_view_module_version": "1.2.0",
            "grid_template_areas": null,
            "object_position": null,
            "object_fit": null,
            "grid_auto_columns": null,
            "margin": null,
            "display": null,
            "left": null
          }
        },
        "4b4dd7c4bb994cd28d2487f293a0bf0a": {
          "model_module": "@jupyter-widgets/controls",
          "model_name": "ProgressStyleModel",
          "model_module_version": "1.5.0",
          "state": {
            "_view_name": "StyleView",
            "_model_name": "ProgressStyleModel",
            "description_width": "",
            "_view_module": "@jupyter-widgets/base",
            "_model_module_version": "1.5.0",
            "_view_count": null,
            "_view_module_version": "1.2.0",
            "bar_color": null,
            "_model_module": "@jupyter-widgets/controls"
          }
        },
        "18fdcffe3c274feeb7e0f3ad15d42f1b": {
          "model_module": "@jupyter-widgets/base",
          "model_name": "LayoutModel",
          "model_module_version": "1.2.0",
          "state": {
            "_view_name": "LayoutView",
            "grid_template_rows": null,
            "right": null,
            "justify_content": null,
            "_view_module": "@jupyter-widgets/base",
            "overflow": null,
            "_model_module_version": "1.2.0",
            "_view_count": null,
            "flex_flow": null,
            "width": null,
            "min_width": null,
            "border": null,
            "align_items": null,
            "bottom": null,
            "_model_module": "@jupyter-widgets/base",
            "top": null,
            "grid_column": null,
            "overflow_y": null,
            "overflow_x": null,
            "grid_auto_flow": null,
            "grid_area": null,
            "grid_template_columns": null,
            "flex": null,
            "_model_name": "LayoutModel",
            "justify_items": null,
            "grid_row": null,
            "max_height": null,
            "align_content": null,
            "visibility": null,
            "align_self": null,
            "height": null,
            "min_height": null,
            "padding": null,
            "grid_auto_rows": null,
            "grid_gap": null,
            "max_width": null,
            "order": null,
            "_view_module_version": "1.2.0",
            "grid_template_areas": null,
            "object_position": null,
            "object_fit": null,
            "grid_auto_columns": null,
            "margin": null,
            "display": null,
            "left": null
          }
        },
        "14145cc942db4f7bbd0f5bf026e65269": {
          "model_module": "@jupyter-widgets/controls",
          "model_name": "DescriptionStyleModel",
          "model_module_version": "1.5.0",
          "state": {
            "_view_name": "StyleView",
            "_model_name": "DescriptionStyleModel",
            "description_width": "",
            "_view_module": "@jupyter-widgets/base",
            "_model_module_version": "1.5.0",
            "_view_count": null,
            "_view_module_version": "1.2.0",
            "_model_module": "@jupyter-widgets/controls"
          }
        },
        "df64a5c0510442698943e2dbf713ebb7": {
          "model_module": "@jupyter-widgets/base",
          "model_name": "LayoutModel",
          "model_module_version": "1.2.0",
          "state": {
            "_view_name": "LayoutView",
            "grid_template_rows": null,
            "right": null,
            "justify_content": null,
            "_view_module": "@jupyter-widgets/base",
            "overflow": null,
            "_model_module_version": "1.2.0",
            "_view_count": null,
            "flex_flow": null,
            "width": null,
            "min_width": null,
            "border": null,
            "align_items": null,
            "bottom": null,
            "_model_module": "@jupyter-widgets/base",
            "top": null,
            "grid_column": null,
            "overflow_y": null,
            "overflow_x": null,
            "grid_auto_flow": null,
            "grid_area": null,
            "grid_template_columns": null,
            "flex": null,
            "_model_name": "LayoutModel",
            "justify_items": null,
            "grid_row": null,
            "max_height": null,
            "align_content": null,
            "visibility": null,
            "align_self": null,
            "height": null,
            "min_height": null,
            "padding": null,
            "grid_auto_rows": null,
            "grid_gap": null,
            "max_width": null,
            "order": null,
            "_view_module_version": "1.2.0",
            "grid_template_areas": null,
            "object_position": null,
            "object_fit": null,
            "grid_auto_columns": null,
            "margin": null,
            "display": null,
            "left": null
          }
        },
        "90b140573f444f4f91ee0e154be52fdb": {
          "model_module": "@jupyter-widgets/controls",
          "model_name": "HBoxModel",
          "model_module_version": "1.5.0",
          "state": {
            "_view_name": "HBoxView",
            "_dom_classes": [],
            "_model_name": "HBoxModel",
            "_view_module": "@jupyter-widgets/controls",
            "_model_module_version": "1.5.0",
            "_view_count": null,
            "_view_module_version": "1.5.0",
            "box_style": "",
            "layout": "IPY_MODEL_cd1711e54fd94d5b823729795770394b",
            "_model_module": "@jupyter-widgets/controls",
            "children": [
              "IPY_MODEL_b32240c8bb304b1db0039706a9118002",
              "IPY_MODEL_38a4bfba44ac4465bf331975be37e72e",
              "IPY_MODEL_3fe80d2d79b44773bbaaa6fe53a7aab8"
            ]
          }
        },
        "cd1711e54fd94d5b823729795770394b": {
          "model_module": "@jupyter-widgets/base",
          "model_name": "LayoutModel",
          "model_module_version": "1.2.0",
          "state": {
            "_view_name": "LayoutView",
            "grid_template_rows": null,
            "right": null,
            "justify_content": null,
            "_view_module": "@jupyter-widgets/base",
            "overflow": null,
            "_model_module_version": "1.2.0",
            "_view_count": null,
            "flex_flow": null,
            "width": null,
            "min_width": null,
            "border": null,
            "align_items": null,
            "bottom": null,
            "_model_module": "@jupyter-widgets/base",
            "top": null,
            "grid_column": null,
            "overflow_y": null,
            "overflow_x": null,
            "grid_auto_flow": null,
            "grid_area": null,
            "grid_template_columns": null,
            "flex": null,
            "_model_name": "LayoutModel",
            "justify_items": null,
            "grid_row": null,
            "max_height": null,
            "align_content": null,
            "visibility": null,
            "align_self": null,
            "height": null,
            "min_height": null,
            "padding": null,
            "grid_auto_rows": null,
            "grid_gap": null,
            "max_width": null,
            "order": null,
            "_view_module_version": "1.2.0",
            "grid_template_areas": null,
            "object_position": null,
            "object_fit": null,
            "grid_auto_columns": null,
            "margin": null,
            "display": null,
            "left": null
          }
        },
        "b32240c8bb304b1db0039706a9118002": {
          "model_module": "@jupyter-widgets/controls",
          "model_name": "HTMLModel",
          "model_module_version": "1.5.0",
          "state": {
            "_view_name": "HTMLView",
            "style": "IPY_MODEL_2e444e52fc1d4f31ab5d9c951bc54deb",
            "_dom_classes": [],
            "description": "",
            "_model_name": "HTMLModel",
            "placeholder": "​",
            "_view_module": "@jupyter-widgets/controls",
            "_model_module_version": "1.5.0",
            "value": "100%",
            "_view_count": null,
            "_view_module_version": "1.5.0",
            "description_tooltip": null,
            "_model_module": "@jupyter-widgets/controls",
            "layout": "IPY_MODEL_4811e689033648ce9789882acc173617"
          }
        },
        "38a4bfba44ac4465bf331975be37e72e": {
          "model_module": "@jupyter-widgets/controls",
          "model_name": "FloatProgressModel",
          "model_module_version": "1.5.0",
          "state": {
            "_view_name": "ProgressView",
            "style": "IPY_MODEL_e614858d4e27435eb5caf1cb49d03d8c",
            "_dom_classes": [],
            "description": "",
            "_model_name": "FloatProgressModel",
            "bar_style": "success",
            "max": 161,
            "_view_module": "@jupyter-widgets/controls",
            "_model_module_version": "1.5.0",
            "value": 161,
            "_view_count": null,
            "_view_module_version": "1.5.0",
            "orientation": "horizontal",
            "min": 0,
            "description_tooltip": null,
            "_model_module": "@jupyter-widgets/controls",
            "layout": "IPY_MODEL_c1eb593be8f74e46960600f51e1d3b72"
          }
        },
        "3fe80d2d79b44773bbaaa6fe53a7aab8": {
          "model_module": "@jupyter-widgets/controls",
          "model_name": "HTMLModel",
          "model_module_version": "1.5.0",
          "state": {
            "_view_name": "HTMLView",
            "style": "IPY_MODEL_f224555d6dfe484c92e507049d7e68f2",
            "_dom_classes": [],
            "description": "",
            "_model_name": "HTMLModel",
            "placeholder": "​",
            "_view_module": "@jupyter-widgets/controls",
            "_model_module_version": "1.5.0",
            "value": " 161/161 [00:01&lt;00:00, 95.29ba/s]",
            "_view_count": null,
            "_view_module_version": "1.5.0",
            "description_tooltip": null,
            "_model_module": "@jupyter-widgets/controls",
            "layout": "IPY_MODEL_164deea083d6435386b4c2fd1b9de1df"
          }
        },
        "2e444e52fc1d4f31ab5d9c951bc54deb": {
          "model_module": "@jupyter-widgets/controls",
          "model_name": "DescriptionStyleModel",
          "model_module_version": "1.5.0",
          "state": {
            "_view_name": "StyleView",
            "_model_name": "DescriptionStyleModel",
            "description_width": "",
            "_view_module": "@jupyter-widgets/base",
            "_model_module_version": "1.5.0",
            "_view_count": null,
            "_view_module_version": "1.2.0",
            "_model_module": "@jupyter-widgets/controls"
          }
        },
        "4811e689033648ce9789882acc173617": {
          "model_module": "@jupyter-widgets/base",
          "model_name": "LayoutModel",
          "model_module_version": "1.2.0",
          "state": {
            "_view_name": "LayoutView",
            "grid_template_rows": null,
            "right": null,
            "justify_content": null,
            "_view_module": "@jupyter-widgets/base",
            "overflow": null,
            "_model_module_version": "1.2.0",
            "_view_count": null,
            "flex_flow": null,
            "width": null,
            "min_width": null,
            "border": null,
            "align_items": null,
            "bottom": null,
            "_model_module": "@jupyter-widgets/base",
            "top": null,
            "grid_column": null,
            "overflow_y": null,
            "overflow_x": null,
            "grid_auto_flow": null,
            "grid_area": null,
            "grid_template_columns": null,
            "flex": null,
            "_model_name": "LayoutModel",
            "justify_items": null,
            "grid_row": null,
            "max_height": null,
            "align_content": null,
            "visibility": null,
            "align_self": null,
            "height": null,
            "min_height": null,
            "padding": null,
            "grid_auto_rows": null,
            "grid_gap": null,
            "max_width": null,
            "order": null,
            "_view_module_version": "1.2.0",
            "grid_template_areas": null,
            "object_position": null,
            "object_fit": null,
            "grid_auto_columns": null,
            "margin": null,
            "display": null,
            "left": null
          }
        },
        "e614858d4e27435eb5caf1cb49d03d8c": {
          "model_module": "@jupyter-widgets/controls",
          "model_name": "ProgressStyleModel",
          "model_module_version": "1.5.0",
          "state": {
            "_view_name": "StyleView",
            "_model_name": "ProgressStyleModel",
            "description_width": "",
            "_view_module": "@jupyter-widgets/base",
            "_model_module_version": "1.5.0",
            "_view_count": null,
            "_view_module_version": "1.2.0",
            "bar_color": null,
            "_model_module": "@jupyter-widgets/controls"
          }
        },
        "c1eb593be8f74e46960600f51e1d3b72": {
          "model_module": "@jupyter-widgets/base",
          "model_name": "LayoutModel",
          "model_module_version": "1.2.0",
          "state": {
            "_view_name": "LayoutView",
            "grid_template_rows": null,
            "right": null,
            "justify_content": null,
            "_view_module": "@jupyter-widgets/base",
            "overflow": null,
            "_model_module_version": "1.2.0",
            "_view_count": null,
            "flex_flow": null,
            "width": null,
            "min_width": null,
            "border": null,
            "align_items": null,
            "bottom": null,
            "_model_module": "@jupyter-widgets/base",
            "top": null,
            "grid_column": null,
            "overflow_y": null,
            "overflow_x": null,
            "grid_auto_flow": null,
            "grid_area": null,
            "grid_template_columns": null,
            "flex": null,
            "_model_name": "LayoutModel",
            "justify_items": null,
            "grid_row": null,
            "max_height": null,
            "align_content": null,
            "visibility": null,
            "align_self": null,
            "height": null,
            "min_height": null,
            "padding": null,
            "grid_auto_rows": null,
            "grid_gap": null,
            "max_width": null,
            "order": null,
            "_view_module_version": "1.2.0",
            "grid_template_areas": null,
            "object_position": null,
            "object_fit": null,
            "grid_auto_columns": null,
            "margin": null,
            "display": null,
            "left": null
          }
        },
        "f224555d6dfe484c92e507049d7e68f2": {
          "model_module": "@jupyter-widgets/controls",
          "model_name": "DescriptionStyleModel",
          "model_module_version": "1.5.0",
          "state": {
            "_view_name": "StyleView",
            "_model_name": "DescriptionStyleModel",
            "description_width": "",
            "_view_module": "@jupyter-widgets/base",
            "_model_module_version": "1.5.0",
            "_view_count": null,
            "_view_module_version": "1.2.0",
            "_model_module": "@jupyter-widgets/controls"
          }
        },
        "164deea083d6435386b4c2fd1b9de1df": {
          "model_module": "@jupyter-widgets/base",
          "model_name": "LayoutModel",
          "model_module_version": "1.2.0",
          "state": {
            "_view_name": "LayoutView",
            "grid_template_rows": null,
            "right": null,
            "justify_content": null,
            "_view_module": "@jupyter-widgets/base",
            "overflow": null,
            "_model_module_version": "1.2.0",
            "_view_count": null,
            "flex_flow": null,
            "width": null,
            "min_width": null,
            "border": null,
            "align_items": null,
            "bottom": null,
            "_model_module": "@jupyter-widgets/base",
            "top": null,
            "grid_column": null,
            "overflow_y": null,
            "overflow_x": null,
            "grid_auto_flow": null,
            "grid_area": null,
            "grid_template_columns": null,
            "flex": null,
            "_model_name": "LayoutModel",
            "justify_items": null,
            "grid_row": null,
            "max_height": null,
            "align_content": null,
            "visibility": null,
            "align_self": null,
            "height": null,
            "min_height": null,
            "padding": null,
            "grid_auto_rows": null,
            "grid_gap": null,
            "max_width": null,
            "order": null,
            "_view_module_version": "1.2.0",
            "grid_template_areas": null,
            "object_position": null,
            "object_fit": null,
            "grid_auto_columns": null,
            "margin": null,
            "display": null,
            "left": null
          }
        },
        "4833cebc518d4f6da81df4c7495d6bcf": {
          "model_module": "@jupyter-widgets/controls",
          "model_name": "HBoxModel",
          "model_module_version": "1.5.0",
          "state": {
            "_view_name": "HBoxView",
            "_dom_classes": [],
            "_model_name": "HBoxModel",
            "_view_module": "@jupyter-widgets/controls",
            "_model_module_version": "1.5.0",
            "_view_count": null,
            "_view_module_version": "1.5.0",
            "box_style": "",
            "layout": "IPY_MODEL_d6f2cf83b5904541bedae6a0a7872128",
            "_model_module": "@jupyter-widgets/controls",
            "children": [
              "IPY_MODEL_a50c255e370e4e8291957c05330174c2",
              "IPY_MODEL_7f04beb318e74ac5bae461604f774cda",
              "IPY_MODEL_56d319b6b8e44720bbc4b9f9b7bc1324"
            ]
          }
        },
        "d6f2cf83b5904541bedae6a0a7872128": {
          "model_module": "@jupyter-widgets/base",
          "model_name": "LayoutModel",
          "model_module_version": "1.2.0",
          "state": {
            "_view_name": "LayoutView",
            "grid_template_rows": null,
            "right": null,
            "justify_content": null,
            "_view_module": "@jupyter-widgets/base",
            "overflow": null,
            "_model_module_version": "1.2.0",
            "_view_count": null,
            "flex_flow": null,
            "width": null,
            "min_width": null,
            "border": null,
            "align_items": null,
            "bottom": null,
            "_model_module": "@jupyter-widgets/base",
            "top": null,
            "grid_column": null,
            "overflow_y": null,
            "overflow_x": null,
            "grid_auto_flow": null,
            "grid_area": null,
            "grid_template_columns": null,
            "flex": null,
            "_model_name": "LayoutModel",
            "justify_items": null,
            "grid_row": null,
            "max_height": null,
            "align_content": null,
            "visibility": null,
            "align_self": null,
            "height": null,
            "min_height": null,
            "padding": null,
            "grid_auto_rows": null,
            "grid_gap": null,
            "max_width": null,
            "order": null,
            "_view_module_version": "1.2.0",
            "grid_template_areas": null,
            "object_position": null,
            "object_fit": null,
            "grid_auto_columns": null,
            "margin": null,
            "display": null,
            "left": null
          }
        },
        "a50c255e370e4e8291957c05330174c2": {
          "model_module": "@jupyter-widgets/controls",
          "model_name": "HTMLModel",
          "model_module_version": "1.5.0",
          "state": {
            "_view_name": "HTMLView",
            "style": "IPY_MODEL_eb17fcbf7c6d47f6a090b83c4c80b60e",
            "_dom_classes": [],
            "description": "",
            "_model_name": "HTMLModel",
            "placeholder": "​",
            "_view_module": "@jupyter-widgets/controls",
            "_model_module_version": "1.5.0",
            "value": "100%",
            "_view_count": null,
            "_view_module_version": "1.5.0",
            "description_tooltip": null,
            "_model_module": "@jupyter-widgets/controls",
            "layout": "IPY_MODEL_aa0ddee353524f96a306aa0d0238a9d3"
          }
        },
        "7f04beb318e74ac5bae461604f774cda": {
          "model_module": "@jupyter-widgets/controls",
          "model_name": "FloatProgressModel",
          "model_module_version": "1.5.0",
          "state": {
            "_view_name": "ProgressView",
            "style": "IPY_MODEL_1110a95d1e21457e8782b1eeba7066eb",
            "_dom_classes": [],
            "description": "",
            "_model_name": "FloatProgressModel",
            "bar_style": "success",
            "max": 54,
            "_view_module": "@jupyter-widgets/controls",
            "_model_module_version": "1.5.0",
            "value": 54,
            "_view_count": null,
            "_view_module_version": "1.5.0",
            "orientation": "horizontal",
            "min": 0,
            "description_tooltip": null,
            "_model_module": "@jupyter-widgets/controls",
            "layout": "IPY_MODEL_1a925cca5f0f4ed9ae4f0fd973e15fe3"
          }
        },
        "56d319b6b8e44720bbc4b9f9b7bc1324": {
          "model_module": "@jupyter-widgets/controls",
          "model_name": "HTMLModel",
          "model_module_version": "1.5.0",
          "state": {
            "_view_name": "HTMLView",
            "style": "IPY_MODEL_78d8018cf9fe48f5827bb852d214cdd7",
            "_dom_classes": [],
            "description": "",
            "_model_name": "HTMLModel",
            "placeholder": "​",
            "_view_module": "@jupyter-widgets/controls",
            "_model_module_version": "1.5.0",
            "value": " 54/54 [00:00&lt;00:00, 95.25ba/s]",
            "_view_count": null,
            "_view_module_version": "1.5.0",
            "description_tooltip": null,
            "_model_module": "@jupyter-widgets/controls",
            "layout": "IPY_MODEL_6dd5419a15a946589eca48ca48499069"
          }
        },
        "eb17fcbf7c6d47f6a090b83c4c80b60e": {
          "model_module": "@jupyter-widgets/controls",
          "model_name": "DescriptionStyleModel",
          "model_module_version": "1.5.0",
          "state": {
            "_view_name": "StyleView",
            "_model_name": "DescriptionStyleModel",
            "description_width": "",
            "_view_module": "@jupyter-widgets/base",
            "_model_module_version": "1.5.0",
            "_view_count": null,
            "_view_module_version": "1.2.0",
            "_model_module": "@jupyter-widgets/controls"
          }
        },
        "aa0ddee353524f96a306aa0d0238a9d3": {
          "model_module": "@jupyter-widgets/base",
          "model_name": "LayoutModel",
          "model_module_version": "1.2.0",
          "state": {
            "_view_name": "LayoutView",
            "grid_template_rows": null,
            "right": null,
            "justify_content": null,
            "_view_module": "@jupyter-widgets/base",
            "overflow": null,
            "_model_module_version": "1.2.0",
            "_view_count": null,
            "flex_flow": null,
            "width": null,
            "min_width": null,
            "border": null,
            "align_items": null,
            "bottom": null,
            "_model_module": "@jupyter-widgets/base",
            "top": null,
            "grid_column": null,
            "overflow_y": null,
            "overflow_x": null,
            "grid_auto_flow": null,
            "grid_area": null,
            "grid_template_columns": null,
            "flex": null,
            "_model_name": "LayoutModel",
            "justify_items": null,
            "grid_row": null,
            "max_height": null,
            "align_content": null,
            "visibility": null,
            "align_self": null,
            "height": null,
            "min_height": null,
            "padding": null,
            "grid_auto_rows": null,
            "grid_gap": null,
            "max_width": null,
            "order": null,
            "_view_module_version": "1.2.0",
            "grid_template_areas": null,
            "object_position": null,
            "object_fit": null,
            "grid_auto_columns": null,
            "margin": null,
            "display": null,
            "left": null
          }
        },
        "1110a95d1e21457e8782b1eeba7066eb": {
          "model_module": "@jupyter-widgets/controls",
          "model_name": "ProgressStyleModel",
          "model_module_version": "1.5.0",
          "state": {
            "_view_name": "StyleView",
            "_model_name": "ProgressStyleModel",
            "description_width": "",
            "_view_module": "@jupyter-widgets/base",
            "_model_module_version": "1.5.0",
            "_view_count": null,
            "_view_module_version": "1.2.0",
            "bar_color": null,
            "_model_module": "@jupyter-widgets/controls"
          }
        },
        "1a925cca5f0f4ed9ae4f0fd973e15fe3": {
          "model_module": "@jupyter-widgets/base",
          "model_name": "LayoutModel",
          "model_module_version": "1.2.0",
          "state": {
            "_view_name": "LayoutView",
            "grid_template_rows": null,
            "right": null,
            "justify_content": null,
            "_view_module": "@jupyter-widgets/base",
            "overflow": null,
            "_model_module_version": "1.2.0",
            "_view_count": null,
            "flex_flow": null,
            "width": null,
            "min_width": null,
            "border": null,
            "align_items": null,
            "bottom": null,
            "_model_module": "@jupyter-widgets/base",
            "top": null,
            "grid_column": null,
            "overflow_y": null,
            "overflow_x": null,
            "grid_auto_flow": null,
            "grid_area": null,
            "grid_template_columns": null,
            "flex": null,
            "_model_name": "LayoutModel",
            "justify_items": null,
            "grid_row": null,
            "max_height": null,
            "align_content": null,
            "visibility": null,
            "align_self": null,
            "height": null,
            "min_height": null,
            "padding": null,
            "grid_auto_rows": null,
            "grid_gap": null,
            "max_width": null,
            "order": null,
            "_view_module_version": "1.2.0",
            "grid_template_areas": null,
            "object_position": null,
            "object_fit": null,
            "grid_auto_columns": null,
            "margin": null,
            "display": null,
            "left": null
          }
        },
        "78d8018cf9fe48f5827bb852d214cdd7": {
          "model_module": "@jupyter-widgets/controls",
          "model_name": "DescriptionStyleModel",
          "model_module_version": "1.5.0",
          "state": {
            "_view_name": "StyleView",
            "_model_name": "DescriptionStyleModel",
            "description_width": "",
            "_view_module": "@jupyter-widgets/base",
            "_model_module_version": "1.5.0",
            "_view_count": null,
            "_view_module_version": "1.2.0",
            "_model_module": "@jupyter-widgets/controls"
          }
        },
        "6dd5419a15a946589eca48ca48499069": {
          "model_module": "@jupyter-widgets/base",
          "model_name": "LayoutModel",
          "model_module_version": "1.2.0",
          "state": {
            "_view_name": "LayoutView",
            "grid_template_rows": null,
            "right": null,
            "justify_content": null,
            "_view_module": "@jupyter-widgets/base",
            "overflow": null,
            "_model_module_version": "1.2.0",
            "_view_count": null,
            "flex_flow": null,
            "width": null,
            "min_width": null,
            "border": null,
            "align_items": null,
            "bottom": null,
            "_model_module": "@jupyter-widgets/base",
            "top": null,
            "grid_column": null,
            "overflow_y": null,
            "overflow_x": null,
            "grid_auto_flow": null,
            "grid_area": null,
            "grid_template_columns": null,
            "flex": null,
            "_model_name": "LayoutModel",
            "justify_items": null,
            "grid_row": null,
            "max_height": null,
            "align_content": null,
            "visibility": null,
            "align_self": null,
            "height": null,
            "min_height": null,
            "padding": null,
            "grid_auto_rows": null,
            "grid_gap": null,
            "max_width": null,
            "order": null,
            "_view_module_version": "1.2.0",
            "grid_template_areas": null,
            "object_position": null,
            "object_fit": null,
            "grid_auto_columns": null,
            "margin": null,
            "display": null,
            "left": null
          }
        }
      }
    }
  },
  "cells": [
    {
      "cell_type": "code",
      "source": [
        "#  Installation of the following additional packages\n",
        "!pip install transformers\n",
        "!pip install datasets"
      ],
      "metadata": {
        "id": "LyTt_qfcCSHi"
      },
      "execution_count": null,
      "outputs": []
    },
    {
      "cell_type": "markdown",
      "source": [
        "## Importing Data"
      ],
      "metadata": {
        "id": "0U-P3Ps7k-23"
      }
    },
    {
      "cell_type": "code",
      "execution_count": null,
      "metadata": {
        "colab": {
          "base_uri": "https://localhost:8080/"
        },
        "id": "nB1znJUeCD5-",
        "outputId": "f59c5f58-b219-4c76-852c-80ec3258c20b"
      },
      "outputs": [
        {
          "output_type": "stream",
          "name": "stdout",
          "text": [
            "--2022-01-12 12:07:14--  https://archive.ics.uci.edu/ml/machine-learning-databases/00462/drugsCom_raw.zip\n",
            "Resolving archive.ics.uci.edu (archive.ics.uci.edu)... 128.195.10.252\n",
            "Connecting to archive.ics.uci.edu (archive.ics.uci.edu)|128.195.10.252|:443... connected.\n",
            "HTTP request sent, awaiting response... 200 OK\n",
            "Length: 42989872 (41M) [application/x-httpd-php]\n",
            "Saving to: ‘drugsCom_raw.zip’\n",
            "\n",
            "drugsCom_raw.zip    100%[===================>]  41.00M  37.1MB/s    in 1.1s    \n",
            "\n",
            "2022-01-12 12:07:16 (37.1 MB/s) - ‘drugsCom_raw.zip’ saved [42989872/42989872]\n",
            "\n",
            "Archive:  drugsCom_raw.zip\n",
            "  inflating: drugsComTest_raw.tsv    \n",
            "  inflating: drugsComTrain_raw.tsv   \n"
          ]
        }
      ],
      "source": [
        "!wget \"https://archive.ics.uci.edu/ml/machine-learning-databases/00462/drugsCom_raw.zip\"\n",
        "!unzip drugsCom_raw.zip"
      ]
    },
    {
      "cell_type": "code",
      "source": [
        "from datasets import load_dataset\n",
        "\n",
        "data_files = {\"train\": \"drugsComTrain_raw.tsv\", \"test\": \"drugsComTest_raw.tsv\"}\n",
        "# \\t is the tab character in Python\n",
        "drug_dataset = load_dataset(\"csv\", data_files=data_files, delimiter=\"\\t\")"
      ],
      "metadata": {
        "colab": {
          "base_uri": "https://localhost:8080/",
          "height": 84,
          "referenced_widgets": [
            "dc94957259ae414281e48f2339f5ed28",
            "638f5c30818f4c949e65f8f282c6dfe7",
            "c3b470fd0e6c483e8314065763756ffc",
            "a6848e08c8244182ab13c406709d5fb0",
            "96ed785736224223adbfe304322e8cc2",
            "7103a2d3520e4682a1773b7b65b4e930",
            "6518df4442bd4f2984b0337ad606c93c",
            "a265b11ff01c4baea73dfd0c803d2c40",
            "b59e672afbd44e67bbb9ab8b62538afd",
            "df767548173f438088849fbb1194c02e",
            "254f3ccf3c9c40808a2184767c380a7e"
          ]
        },
        "id": "kOxWvvMaCIe4",
        "outputId": "59787453-e65a-4362-97da-2ab9c742e599"
      },
      "execution_count": 78,
      "outputs": [
        {
          "output_type": "stream",
          "name": "stderr",
          "text": [
            "Using custom data configuration default-3761173c276c0a9a\n",
            "Reusing dataset csv (/root/.cache/huggingface/datasets/csv/default-3761173c276c0a9a/0.0.0/6b9057d9e23d9d8a2f05b985917a0da84d70c5dae3d22ddd8a3f22fb01c69d9e)\n"
          ]
        },
        {
          "output_type": "display_data",
          "data": {
            "application/vnd.jupyter.widget-view+json": {
              "model_id": "dc94957259ae414281e48f2339f5ed28",
              "version_minor": 0,
              "version_major": 2
            },
            "text/plain": [
              "  0%|          | 0/2 [00:00<?, ?it/s]"
            ]
          },
          "metadata": {}
        }
      ]
    },
    {
      "cell_type": "code",
      "source": [
        "drug_dataset"
      ],
      "metadata": {
        "colab": {
          "base_uri": "https://localhost:8080/"
        },
        "id": "i20VSut99lFJ",
        "outputId": "2fe75f26-f727-4c87-bb27-473cb793396e"
      },
      "execution_count": 74,
      "outputs": [
        {
          "output_type": "execute_result",
          "data": {
            "text/plain": [
              "DatasetDict({\n",
              "    train: Dataset({\n",
              "        features: ['condition', 'date', 'drugName', 'patient_id', 'rating', 'review', 'review_length', 'usefulCount'],\n",
              "        num_rows: 160398\n",
              "    })\n",
              "    test: Dataset({\n",
              "        features: ['condition', 'date', 'drugName', 'patient_id', 'rating', 'review', 'review_length', 'usefulCount'],\n",
              "        num_rows: 53471\n",
              "    })\n",
              "})"
            ]
          },
          "metadata": {},
          "execution_count": 74
        }
      ]
    },
    {
      "cell_type": "markdown",
      "source": [
        "## Preparing Data"
      ],
      "metadata": {
        "id": "uG89_GQwlBxj"
      }
    },
    {
      "cell_type": "markdown",
      "source": [
        "Getting a small sample to play around"
      ],
      "metadata": {
        "id": "T2EEvg24W0B9"
      }
    },
    {
      "cell_type": "code",
      "source": [
        "drug_sample = drug_dataset[\"train\"].shuffle(seed=42).select(range(1000))\n",
        "# Peek at the first few examples\n",
        "drug_sample[:3]"
      ],
      "metadata": {
        "colab": {
          "base_uri": "https://localhost:8080/"
        },
        "id": "c4rfYMYTC7_M",
        "outputId": "85edf13a-92e6-4539-e59a-10e9acc21513"
      },
      "execution_count": 75,
      "outputs": [
        {
          "output_type": "execute_result",
          "data": {
            "text/plain": [
              "{'condition': ['birth control', 'acne', 'light sedation'],\n",
              " 'date': ['August 6, 2011', 'July 7, 2016', 'March 9, 2009'],\n",
              " 'drugName': ['Loestrin 24 Fe', 'Adapalene', 'Promethazine'],\n",
              " 'patient_id': [220552, 47811, 177091],\n",
              " 'rating': [10.0, 10.0, 1.0],\n",
              " 'review': ['\"I&#039;ve been on Loestrin almost 2 years now and have no real complaints! Nowhere near the weight gain I had while previously on Depo (maybe a pound or 2 on Loestrin) and my breasts have become significantly bigger (to the happiness of my boyfriend) and my skin is SO much smoother (also huge perk for him). I would really give it a 9.5 rating because those times when my period comes a day or 2 later then it should (because it only lasts 2 days at max) I start worrying if I&#039;m pregnant, but in the end, never am! My doctor said if I hated the paranoia then to use a back up birth control too.\"',\n",
              "  '\"This is so good, initially I was not keen because of most said about having a bigger breakout on top of what I was already suffering, well I did :-(  but I started in the summer holidays so I didn&#039;t have to ho out, well after the breakout, it was about a month that I started to see change :-) yes your skin peels, gets very dry and uncomfortable,I recommend a fragrant free moisturiser, put it on, don&#039;t rub in just let the skin absorb it. Your find after the dry period your skin becomes greasy a little, this helps after extreme dryness. Overall it&#039;s  really worth a go, I&#039;m also on lycymic tablets. Just need perseverance, as the cream draws out underlying spots which causes the intial puge at the beginning. Just have to avoid the sun .\"',\n",
              "  '\"I suffered a reaction to this product. I bought it for help with sleeping and I  was unable to sit or lie down for the restless nerve endings that lasted all night and most of the following day.\"'],\n",
              " 'review_length': [602, 764, 196],\n",
              " 'usefulCount': [1, 1, 26]}"
            ]
          },
          "metadata": {},
          "execution_count": 75
        }
      ]
    },
    {
      "cell_type": "markdown",
      "source": [
        "Get train, test, and split dataset"
      ],
      "metadata": {
        "id": "R7dBKUvnk2Uw"
      }
    },
    {
      "cell_type": "code",
      "source": [
        "drug_dataset_clean = drug_dataset[\"train\"].train_test_split(train_size=0.8, seed=42)\n",
        "# Rename the default \"test\" split to \"validation\"\n",
        "drug_dataset_clean[\"validation\"] = drug_dataset_clean.pop(\"test\")\n",
        "# Add the \"test\" set to our `DatasetDict`\n",
        "drug_dataset_clean[\"test\"] = drug_dataset[\"test\"]\n",
        "drug_dataset_clean"
      ],
      "metadata": {
        "colab": {
          "base_uri": "https://localhost:8080/"
        },
        "id": "addCHg_ek7-X",
        "outputId": "a6a0c375-745f-4027-8f19-64985fee396e"
      },
      "execution_count": 76,
      "outputs": [
        {
          "output_type": "execute_result",
          "data": {
            "text/plain": [
              "DatasetDict({\n",
              "    train: Dataset({\n",
              "        features: ['condition', 'date', 'drugName', 'patient_id', 'rating', 'review', 'review_length', 'usefulCount'],\n",
              "        num_rows: 128318\n",
              "    })\n",
              "    validation: Dataset({\n",
              "        features: ['condition', 'date', 'drugName', 'patient_id', 'rating', 'review', 'review_length', 'usefulCount'],\n",
              "        num_rows: 32080\n",
              "    })\n",
              "    test: Dataset({\n",
              "        features: ['condition', 'date', 'drugName', 'patient_id', 'rating', 'review', 'review_length', 'usefulCount'],\n",
              "        num_rows: 53471\n",
              "    })\n",
              "})"
            ]
          },
          "metadata": {},
          "execution_count": 76
        }
      ]
    },
    {
      "cell_type": "markdown",
      "source": [
        "## Cleaning Data\n",
        "(1) Renaming the first column"
      ],
      "metadata": {
        "id": "HvPW4wXWNNLi"
      }
    },
    {
      "cell_type": "code",
      "source": [
        "drug_dataset = drug_dataset.rename_column(\n",
        "    original_column_name=\"Unnamed: 0\", new_column_name=\"patient_id\"\n",
        ")\n",
        "drug_dataset"
      ],
      "metadata": {
        "colab": {
          "base_uri": "https://localhost:8080/",
          "height": 381
        },
        "id": "qMPbZtFKIXTE",
        "outputId": "f3cc880e-6068-4256-e39a-5f1b3e1a2489"
      },
      "execution_count": 82,
      "outputs": [
        {
          "output_type": "error",
          "ename": "ValueError",
          "evalue": "ignored",
          "traceback": [
            "\u001b[0;31m---------------------------------------------------------------------------\u001b[0m",
            "\u001b[0;31mValueError\u001b[0m                                Traceback (most recent call last)",
            "\u001b[0;32m<ipython-input-82-cb97e170e6dd>\u001b[0m in \u001b[0;36m<module>\u001b[0;34m()\u001b[0m\n\u001b[1;32m      1\u001b[0m drug_dataset = drug_dataset.rename_column(\n\u001b[0;32m----> 2\u001b[0;31m     \u001b[0moriginal_column_name\u001b[0m\u001b[0;34m=\u001b[0m\u001b[0;34m\"Unnamed: 0\"\u001b[0m\u001b[0;34m,\u001b[0m \u001b[0mnew_column_name\u001b[0m\u001b[0;34m=\u001b[0m\u001b[0;34m\"patient_id\"\u001b[0m\u001b[0;34m\u001b[0m\u001b[0;34m\u001b[0m\u001b[0m\n\u001b[0m\u001b[1;32m      3\u001b[0m )\n\u001b[1;32m      4\u001b[0m \u001b[0mdrug_dataset\u001b[0m\u001b[0;34m\u001b[0m\u001b[0;34m\u001b[0m\u001b[0m\n",
            "\u001b[0;32m/usr/local/lib/python3.7/dist-packages/datasets/dataset_dict.py\u001b[0m in \u001b[0;36mrename_column\u001b[0;34m(self, original_column_name, new_column_name)\u001b[0m\n\u001b[1;32m    266\u001b[0m             {\n\u001b[1;32m    267\u001b[0m                 \u001b[0mk\u001b[0m\u001b[0;34m:\u001b[0m \u001b[0mdataset\u001b[0m\u001b[0;34m.\u001b[0m\u001b[0mrename_column\u001b[0m\u001b[0;34m(\u001b[0m\u001b[0moriginal_column_name\u001b[0m\u001b[0;34m=\u001b[0m\u001b[0moriginal_column_name\u001b[0m\u001b[0;34m,\u001b[0m \u001b[0mnew_column_name\u001b[0m\u001b[0;34m=\u001b[0m\u001b[0mnew_column_name\u001b[0m\u001b[0;34m)\u001b[0m\u001b[0;34m\u001b[0m\u001b[0;34m\u001b[0m\u001b[0m\n\u001b[0;32m--> 268\u001b[0;31m                 \u001b[0;32mfor\u001b[0m \u001b[0mk\u001b[0m\u001b[0;34m,\u001b[0m \u001b[0mdataset\u001b[0m \u001b[0;32min\u001b[0m \u001b[0mself\u001b[0m\u001b[0;34m.\u001b[0m\u001b[0mitems\u001b[0m\u001b[0;34m(\u001b[0m\u001b[0;34m)\u001b[0m\u001b[0;34m\u001b[0m\u001b[0;34m\u001b[0m\u001b[0m\n\u001b[0m\u001b[1;32m    269\u001b[0m             }\n\u001b[1;32m    270\u001b[0m         )\n",
            "\u001b[0;32m/usr/local/lib/python3.7/dist-packages/datasets/dataset_dict.py\u001b[0m in \u001b[0;36m<dictcomp>\u001b[0;34m(.0)\u001b[0m\n\u001b[1;32m    266\u001b[0m             {\n\u001b[1;32m    267\u001b[0m                 \u001b[0mk\u001b[0m\u001b[0;34m:\u001b[0m \u001b[0mdataset\u001b[0m\u001b[0;34m.\u001b[0m\u001b[0mrename_column\u001b[0m\u001b[0;34m(\u001b[0m\u001b[0moriginal_column_name\u001b[0m\u001b[0;34m=\u001b[0m\u001b[0moriginal_column_name\u001b[0m\u001b[0;34m,\u001b[0m \u001b[0mnew_column_name\u001b[0m\u001b[0;34m=\u001b[0m\u001b[0mnew_column_name\u001b[0m\u001b[0;34m)\u001b[0m\u001b[0;34m\u001b[0m\u001b[0;34m\u001b[0m\u001b[0m\n\u001b[0;32m--> 268\u001b[0;31m                 \u001b[0;32mfor\u001b[0m \u001b[0mk\u001b[0m\u001b[0;34m,\u001b[0m \u001b[0mdataset\u001b[0m \u001b[0;32min\u001b[0m \u001b[0mself\u001b[0m\u001b[0;34m.\u001b[0m\u001b[0mitems\u001b[0m\u001b[0;34m(\u001b[0m\u001b[0;34m)\u001b[0m\u001b[0;34m\u001b[0m\u001b[0;34m\u001b[0m\u001b[0m\n\u001b[0m\u001b[1;32m    269\u001b[0m             }\n\u001b[1;32m    270\u001b[0m         )\n",
            "\u001b[0;32m/usr/local/lib/python3.7/dist-packages/datasets/arrow_dataset.py\u001b[0m in \u001b[0;36mwrapper\u001b[0;34m(*args, **kwargs)\u001b[0m\n\u001b[1;32m    516\u001b[0m             \u001b[0mself\u001b[0m\u001b[0;34m:\u001b[0m \u001b[0;34m\"Dataset\"\u001b[0m \u001b[0;34m=\u001b[0m \u001b[0mkwargs\u001b[0m\u001b[0;34m.\u001b[0m\u001b[0mpop\u001b[0m\u001b[0;34m(\u001b[0m\u001b[0;34m\"self\"\u001b[0m\u001b[0;34m)\u001b[0m\u001b[0;34m\u001b[0m\u001b[0;34m\u001b[0m\u001b[0m\n\u001b[1;32m    517\u001b[0m         \u001b[0;31m# apply actual function\u001b[0m\u001b[0;34m\u001b[0m\u001b[0;34m\u001b[0m\u001b[0;34m\u001b[0m\u001b[0m\n\u001b[0;32m--> 518\u001b[0;31m         \u001b[0mout\u001b[0m\u001b[0;34m:\u001b[0m \u001b[0mUnion\u001b[0m\u001b[0;34m[\u001b[0m\u001b[0;34m\"Dataset\"\u001b[0m\u001b[0;34m,\u001b[0m \u001b[0;34m\"DatasetDict\"\u001b[0m\u001b[0;34m]\u001b[0m \u001b[0;34m=\u001b[0m \u001b[0mfunc\u001b[0m\u001b[0;34m(\u001b[0m\u001b[0mself\u001b[0m\u001b[0;34m,\u001b[0m \u001b[0;34m*\u001b[0m\u001b[0margs\u001b[0m\u001b[0;34m,\u001b[0m \u001b[0;34m**\u001b[0m\u001b[0mkwargs\u001b[0m\u001b[0;34m)\u001b[0m\u001b[0;34m\u001b[0m\u001b[0;34m\u001b[0m\u001b[0m\n\u001b[0m\u001b[1;32m    519\u001b[0m         \u001b[0mdatasets\u001b[0m\u001b[0;34m:\u001b[0m \u001b[0mList\u001b[0m\u001b[0;34m[\u001b[0m\u001b[0;34m\"Dataset\"\u001b[0m\u001b[0;34m]\u001b[0m \u001b[0;34m=\u001b[0m \u001b[0mlist\u001b[0m\u001b[0;34m(\u001b[0m\u001b[0mout\u001b[0m\u001b[0;34m.\u001b[0m\u001b[0mvalues\u001b[0m\u001b[0;34m(\u001b[0m\u001b[0;34m)\u001b[0m\u001b[0;34m)\u001b[0m \u001b[0;32mif\u001b[0m \u001b[0misinstance\u001b[0m\u001b[0;34m(\u001b[0m\u001b[0mout\u001b[0m\u001b[0;34m,\u001b[0m \u001b[0mdict\u001b[0m\u001b[0;34m)\u001b[0m \u001b[0;32melse\u001b[0m \u001b[0;34m[\u001b[0m\u001b[0mout\u001b[0m\u001b[0;34m]\u001b[0m\u001b[0;34m\u001b[0m\u001b[0;34m\u001b[0m\u001b[0m\n\u001b[1;32m    520\u001b[0m         \u001b[0;32mfor\u001b[0m \u001b[0mdataset\u001b[0m \u001b[0;32min\u001b[0m \u001b[0mdatasets\u001b[0m\u001b[0;34m:\u001b[0m\u001b[0;34m\u001b[0m\u001b[0;34m\u001b[0m\u001b[0m\n",
            "\u001b[0;32m/usr/local/lib/python3.7/dist-packages/datasets/fingerprint.py\u001b[0m in \u001b[0;36mwrapper\u001b[0;34m(*args, **kwargs)\u001b[0m\n\u001b[1;32m    409\u001b[0m             \u001b[0;31m# Call actual function\u001b[0m\u001b[0;34m\u001b[0m\u001b[0;34m\u001b[0m\u001b[0;34m\u001b[0m\u001b[0m\n\u001b[1;32m    410\u001b[0m \u001b[0;34m\u001b[0m\u001b[0m\n\u001b[0;32m--> 411\u001b[0;31m             \u001b[0mout\u001b[0m \u001b[0;34m=\u001b[0m \u001b[0mfunc\u001b[0m\u001b[0;34m(\u001b[0m\u001b[0mself\u001b[0m\u001b[0;34m,\u001b[0m \u001b[0;34m*\u001b[0m\u001b[0margs\u001b[0m\u001b[0;34m,\u001b[0m \u001b[0;34m**\u001b[0m\u001b[0mkwargs\u001b[0m\u001b[0;34m)\u001b[0m\u001b[0;34m\u001b[0m\u001b[0;34m\u001b[0m\u001b[0m\n\u001b[0m\u001b[1;32m    412\u001b[0m \u001b[0;34m\u001b[0m\u001b[0m\n\u001b[1;32m    413\u001b[0m             \u001b[0;31m# Update fingerprint of in-place transforms + update in-place history of transforms\u001b[0m\u001b[0;34m\u001b[0m\u001b[0;34m\u001b[0m\u001b[0;34m\u001b[0m\u001b[0m\n",
            "\u001b[0;32m/usr/local/lib/python3.7/dist-packages/datasets/arrow_dataset.py\u001b[0m in \u001b[0;36mrename_column\u001b[0;34m(self, original_column_name, new_column_name, new_fingerprint)\u001b[0m\n\u001b[1;32m   1562\u001b[0m         \u001b[0;32mif\u001b[0m \u001b[0moriginal_column_name\u001b[0m \u001b[0;32mnot\u001b[0m \u001b[0;32min\u001b[0m \u001b[0mdataset\u001b[0m\u001b[0;34m.\u001b[0m\u001b[0m_data\u001b[0m\u001b[0;34m.\u001b[0m\u001b[0mcolumn_names\u001b[0m\u001b[0;34m:\u001b[0m\u001b[0;34m\u001b[0m\u001b[0;34m\u001b[0m\u001b[0m\n\u001b[1;32m   1563\u001b[0m             raise ValueError(\n\u001b[0;32m-> 1564\u001b[0;31m                 \u001b[0;34mf\"Original column name {original_column_name} not in the dataset. \"\u001b[0m\u001b[0;34m\u001b[0m\u001b[0;34m\u001b[0m\u001b[0m\n\u001b[0m\u001b[1;32m   1565\u001b[0m                 \u001b[0;34mf\"Current columns in the dataset: {dataset._data.column_names}\"\u001b[0m\u001b[0;34m\u001b[0m\u001b[0;34m\u001b[0m\u001b[0m\n\u001b[1;32m   1566\u001b[0m             )\n",
            "\u001b[0;31mValueError\u001b[0m: Original column name Unnamed: 0 not in the dataset. Current columns in the dataset: ['patient_id', 'drugName', 'condition', 'review', 'rating', 'date', 'usefulCount']"
          ]
        }
      ]
    },
    {
      "cell_type": "markdown",
      "source": [
        "(2) Lowercase all strings in the variable \"condition\""
      ],
      "metadata": {
        "id": "B2rgxExgNxLp"
      }
    },
    {
      "cell_type": "code",
      "source": [
        "def lowercase_condition(example):\n",
        "    return {\"condition\": example[\"condition\"].lower()}\n",
        "\n",
        "drug_dataset.map(lowercase_condition)"
      ],
      "metadata": {
        "id": "pYSnwTfPIieG"
      },
      "execution_count": null,
      "outputs": []
    },
    {
      "cell_type": "code",
      "source": [
        "  drug_dataset = drug_dataset.filter(lambda x: x[\"condition\"] is not None)"
      ],
      "metadata": {
        "colab": {
          "base_uri": "https://localhost:8080/"
        },
        "id": "B3MDWXKiQ5gd",
        "outputId": "1beb1438-3419-4bf6-d38a-4f0d35954bff"
      },
      "execution_count": 84,
      "outputs": [
        {
          "output_type": "stream",
          "name": "stderr",
          "text": [
            "Loading cached processed dataset at /root/.cache/huggingface/datasets/csv/default-3761173c276c0a9a/0.0.0/6b9057d9e23d9d8a2f05b985917a0da84d70c5dae3d22ddd8a3f22fb01c69d9e/cache-ec6c58fc0f35d2c1.arrow\n",
            "Loading cached processed dataset at /root/.cache/huggingface/datasets/csv/default-3761173c276c0a9a/0.0.0/6b9057d9e23d9d8a2f05b985917a0da84d70c5dae3d22ddd8a3f22fb01c69d9e/cache-f65a761bf5c69848.arrow\n"
          ]
        }
      ]
    },
    {
      "cell_type": "code",
      "source": [
        "drug_dataset = drug_dataset.map(lowercase_condition)\n",
        "# Check that lowercasing worked\n",
        "drug_dataset[\"train\"][\"condition\"][:3]"
      ],
      "metadata": {
        "colab": {
          "base_uri": "https://localhost:8080/"
        },
        "id": "RV92petMRHnB",
        "outputId": "e2ca06da-3bf3-4f74-ac5b-6c153a153c8a"
      },
      "execution_count": 85,
      "outputs": [
        {
          "output_type": "stream",
          "name": "stderr",
          "text": [
            "Loading cached processed dataset at /root/.cache/huggingface/datasets/csv/default-3761173c276c0a9a/0.0.0/6b9057d9e23d9d8a2f05b985917a0da84d70c5dae3d22ddd8a3f22fb01c69d9e/cache-90329f84be2017d4.arrow\n",
            "Loading cached processed dataset at /root/.cache/huggingface/datasets/csv/default-3761173c276c0a9a/0.0.0/6b9057d9e23d9d8a2f05b985917a0da84d70c5dae3d22ddd8a3f22fb01c69d9e/cache-2c522743542cd546.arrow\n"
          ]
        },
        {
          "output_type": "execute_result",
          "data": {
            "text/plain": [
              "['left ventricular dysfunction', 'adhd', 'birth control']"
            ]
          },
          "metadata": {},
          "execution_count": 85
        }
      ]
    },
    {
      "cell_type": "markdown",
      "source": [
        "## Creating New Columns"
      ],
      "metadata": {
        "id": "XiYQyd_SUYR2"
      }
    },
    {
      "cell_type": "code",
      "source": [
        "def compute_review_length(example):\n",
        "    return {\"review_length\": len(example[\"review\"])}\n",
        "\n",
        "drug_dataset = drug_dataset.map(compute_review_length)\n",
        "# Inspect the first training example\n",
        "drug_dataset[\"train\"][0]"
      ],
      "metadata": {
        "colab": {
          "base_uri": "https://localhost:8080/",
          "height": 220,
          "referenced_widgets": [
            "1334823b313644579475ed4f658c98b2",
            "d4076ece7786496c86c71d35b56704a3",
            "96843d38f19044348aa2dd741f37065e",
            "30912622c6b34d7491c39f557c3a2234",
            "1c404dfcfe2a431db31c1050fd38bff2",
            "7784181132294022a57cf35f58561639",
            "df7c40d4ebc24a96a049b0f7cddfe3b5",
            "168e3ff44f0f48ebabfbc938a5e9c40e",
            "62f656cd1094453284910c8fa78b2073",
            "fa578b6872bf4e11a440ef4e0b8a4eec",
            "935f4695e4dc4f54940e8ba4bed15f93",
            "a112709853c84f3c9bb2c6ea7ed1f138",
            "5bf4925f86604cbba1143ee3e5d26d5d",
            "1ee0d84316e240f8baf9541bf6ac52ae",
            "e6ccbe55578e4130b37cb1859259de1d",
            "ab13e4f4e3d9475d96224d3f19f0909d",
            "33879c8845584464ae0b54cfdac0af49",
            "61a16b93b0b14ac1a895c4f49677c2ed",
            "4b4dd7c4bb994cd28d2487f293a0bf0a",
            "18fdcffe3c274feeb7e0f3ad15d42f1b",
            "14145cc942db4f7bbd0f5bf026e65269",
            "df64a5c0510442698943e2dbf713ebb7"
          ]
        },
        "id": "mLb3b9ZIUbpX",
        "outputId": "020a1f14-f5a0-4e54-9eb5-9ba8668b0f6f"
      },
      "execution_count": 86,
      "outputs": [
        {
          "output_type": "display_data",
          "data": {
            "application/vnd.jupyter.widget-view+json": {
              "model_id": "1334823b313644579475ed4f658c98b2",
              "version_minor": 0,
              "version_major": 2
            },
            "text/plain": [
              "  0%|          | 0/160398 [00:00<?, ?ex/s]"
            ]
          },
          "metadata": {}
        },
        {
          "output_type": "display_data",
          "data": {
            "application/vnd.jupyter.widget-view+json": {
              "model_id": "a112709853c84f3c9bb2c6ea7ed1f138",
              "version_minor": 0,
              "version_major": 2
            },
            "text/plain": [
              "  0%|          | 0/53471 [00:00<?, ?ex/s]"
            ]
          },
          "metadata": {}
        },
        {
          "output_type": "execute_result",
          "data": {
            "text/plain": [
              "{'condition': 'left ventricular dysfunction',\n",
              " 'date': 'May 20, 2012',\n",
              " 'drugName': 'Valsartan',\n",
              " 'patient_id': 206461,\n",
              " 'rating': 9.0,\n",
              " 'review': '\"It has no side effect, I take it in combination of Bystolic 5 Mg and Fish Oil\"',\n",
              " 'review_length': 79,\n",
              " 'usefulCount': 27}"
            ]
          },
          "metadata": {},
          "execution_count": 86
        }
      ]
    },
    {
      "cell_type": "code",
      "source": [
        "# Batch version of the function\n",
        "def compute_review_length(example):\n",
        "    return {\"review_length\": [len(e) for e in example[\"review\"]]}\n",
        "\n",
        "drug_dataset = drug_dataset.map(compute_review_length, batched=True)\n",
        "# Inspect the first training example\n",
        "drug_dataset[\"train\"][0]"
      ],
      "metadata": {
        "colab": {
          "base_uri": "https://localhost:8080/",
          "height": 220,
          "referenced_widgets": [
            "90b140573f444f4f91ee0e154be52fdb",
            "cd1711e54fd94d5b823729795770394b",
            "b32240c8bb304b1db0039706a9118002",
            "38a4bfba44ac4465bf331975be37e72e",
            "3fe80d2d79b44773bbaaa6fe53a7aab8",
            "2e444e52fc1d4f31ab5d9c951bc54deb",
            "4811e689033648ce9789882acc173617",
            "e614858d4e27435eb5caf1cb49d03d8c",
            "c1eb593be8f74e46960600f51e1d3b72",
            "f224555d6dfe484c92e507049d7e68f2",
            "164deea083d6435386b4c2fd1b9de1df",
            "4833cebc518d4f6da81df4c7495d6bcf",
            "d6f2cf83b5904541bedae6a0a7872128",
            "a50c255e370e4e8291957c05330174c2",
            "7f04beb318e74ac5bae461604f774cda",
            "56d319b6b8e44720bbc4b9f9b7bc1324",
            "eb17fcbf7c6d47f6a090b83c4c80b60e",
            "aa0ddee353524f96a306aa0d0238a9d3",
            "1110a95d1e21457e8782b1eeba7066eb",
            "1a925cca5f0f4ed9ae4f0fd973e15fe3",
            "78d8018cf9fe48f5827bb852d214cdd7",
            "6dd5419a15a946589eca48ca48499069"
          ]
        },
        "id": "Vlkn4XZRcxRp",
        "outputId": "930b7c13-0110-43f2-d81a-ead67974a074"
      },
      "execution_count": 87,
      "outputs": [
        {
          "output_type": "display_data",
          "data": {
            "application/vnd.jupyter.widget-view+json": {
              "model_id": "90b140573f444f4f91ee0e154be52fdb",
              "version_minor": 0,
              "version_major": 2
            },
            "text/plain": [
              "  0%|          | 0/161 [00:00<?, ?ba/s]"
            ]
          },
          "metadata": {}
        },
        {
          "output_type": "display_data",
          "data": {
            "application/vnd.jupyter.widget-view+json": {
              "model_id": "4833cebc518d4f6da81df4c7495d6bcf",
              "version_minor": 0,
              "version_major": 2
            },
            "text/plain": [
              "  0%|          | 0/54 [00:00<?, ?ba/s]"
            ]
          },
          "metadata": {}
        },
        {
          "output_type": "execute_result",
          "data": {
            "text/plain": [
              "{'condition': 'left ventricular dysfunction',\n",
              " 'date': 'May 20, 2012',\n",
              " 'drugName': 'Valsartan',\n",
              " 'patient_id': 206461,\n",
              " 'rating': 9.0,\n",
              " 'review': '\"It has no side effect, I take it in combination of Bystolic 5 Mg and Fish Oil\"',\n",
              " 'review_length': 79,\n",
              " 'usefulCount': 27}"
            ]
          },
          "metadata": {},
          "execution_count": 87
        }
      ]
    },
    {
      "cell_type": "markdown",
      "source": [
        "Looking at extreme values"
      ],
      "metadata": {
        "id": "e1mOVQnWVcix"
      }
    },
    {
      "cell_type": "code",
      "source": [
        "drug_dataset[\"train\"].sort(\"review_length\")[:3]"
      ],
      "metadata": {
        "colab": {
          "base_uri": "https://localhost:8080/"
        },
        "id": "g_C0ATunVbcL",
        "outputId": "b391f1c4-dfe8-4756-9e23-3ee5af2222da"
      },
      "execution_count": 89,
      "outputs": [
        {
          "output_type": "stream",
          "name": "stderr",
          "text": [
            "Loading cached sorted indices for dataset at /root/.cache/huggingface/datasets/csv/default-3761173c276c0a9a/0.0.0/6b9057d9e23d9d8a2f05b985917a0da84d70c5dae3d22ddd8a3f22fb01c69d9e/cache-741770a15d3f8cdf.arrow\n"
          ]
        },
        {
          "output_type": "execute_result",
          "data": {
            "text/plain": [
              "{'condition': ['testicular cance', 'testicular cance', 'min)'],\n",
              " 'date': ['January 8, 2017', 'January 8, 2017', 'April 19, 2012'],\n",
              " 'drugName': ['Ifosfamide', 'Ifex', 'Linagliptin / metformin'],\n",
              " 'patient_id': [180087, 116477, 162018],\n",
              " 'rating': [10.0, 10.0, 9.0],\n",
              " 'review': ['\"-\"', '\"-\"', '\"G\"'],\n",
              " 'review_length': [3, 3, 3],\n",
              " 'usefulCount': [0, 0, 3]}"
            ]
          },
          "metadata": {},
          "execution_count": 89
        }
      ]
    },
    {
      "cell_type": "markdown",
      "source": [
        "## Saving Data"
      ],
      "metadata": {
        "id": "B7t1VvF6mhdG"
      }
    },
    {
      "cell_type": "code",
      "source": [
        "drug_dataset.save_to_disk(\"drug-reviews\")"
      ],
      "metadata": {
        "id": "C7J2Or1NmkZ2"
      },
      "execution_count": 71,
      "outputs": []
    },
    {
      "cell_type": "markdown",
      "source": [
        "Using the standard Arrows format results in a folder including a subfolder for each dataset in the dictionary, JSON files including meta data, and arrow files including the actual data.\n",
        "The structure is similar to the one below.  \n",
        "For CSV and JSON exports (`Dataset.to_csv()` / `Dataset.to_json()`) the datasets are saved separately."
      ],
      "metadata": {
        "id": "vU5iNnf2nQmb"
      }
    },
    {
      "cell_type": "markdown",
      "source": [
        "![image.png](data:image/png;base64,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)"
      ],
      "metadata": {
        "id": "Inr8MwfDm1j_"
      }
    },
    {
      "cell_type": "markdown",
      "source": [
        "## Using a Dataset as a Pandas dataframe"
      ],
      "metadata": {
        "id": "nzQlnNMNoqz8"
      }
    },
    {
      "cell_type": "code",
      "source": [
        "drug_dataset.set_format(\"pandas\")\n",
        "\n",
        "drug_dataset[\"train\"][:3]"
      ],
      "metadata": {
        "colab": {
          "base_uri": "https://localhost:8080/",
          "height": 143
        },
        "id": "Iw9maQbLnC6y",
        "outputId": "7aadd0cf-2ce9-4741-ee41-b12dd18a2658"
      },
      "execution_count": 90,
      "outputs": [
        {
          "output_type": "execute_result",
          "data": {
            "text/html": [
              "\n",
              "  <div id=\"df-efabca65-8f48-4ea5-a5b4-4d1cccf5e7c6\">\n",
              "    <div class=\"colab-df-container\">\n",
              "      <div>\n",
              "<style scoped>\n",
              "    .dataframe tbody tr th:only-of-type {\n",
              "        vertical-align: middle;\n",
              "    }\n",
              "\n",
              "    .dataframe tbody tr th {\n",
              "        vertical-align: top;\n",
              "    }\n",
              "\n",
              "    .dataframe thead th {\n",
              "        text-align: right;\n",
              "    }\n",
              "</style>\n",
              "<table border=\"1\" class=\"dataframe\">\n",
              "  <thead>\n",
              "    <tr style=\"text-align: right;\">\n",
              "      <th></th>\n",
              "      <th>condition</th>\n",
              "      <th>date</th>\n",
              "      <th>drugName</th>\n",
              "      <th>patient_id</th>\n",
              "      <th>rating</th>\n",
              "      <th>review</th>\n",
              "      <th>review_length</th>\n",
              "      <th>usefulCount</th>\n",
              "    </tr>\n",
              "  </thead>\n",
              "  <tbody>\n",
              "    <tr>\n",
              "      <th>0</th>\n",
              "      <td>left ventricular dysfunction</td>\n",
              "      <td>May 20, 2012</td>\n",
              "      <td>Valsartan</td>\n",
              "      <td>206461</td>\n",
              "      <td>9.0</td>\n",
              "      <td>\"It has no side effect, I take it in combinati...</td>\n",
              "      <td>79</td>\n",
              "      <td>27</td>\n",
              "    </tr>\n",
              "    <tr>\n",
              "      <th>1</th>\n",
              "      <td>adhd</td>\n",
              "      <td>April 27, 2010</td>\n",
              "      <td>Guanfacine</td>\n",
              "      <td>95260</td>\n",
              "      <td>8.0</td>\n",
              "      <td>\"My son is halfway through his fourth week of ...</td>\n",
              "      <td>741</td>\n",
              "      <td>192</td>\n",
              "    </tr>\n",
              "    <tr>\n",
              "      <th>2</th>\n",
              "      <td>birth control</td>\n",
              "      <td>December 14, 2009</td>\n",
              "      <td>Lybrel</td>\n",
              "      <td>92703</td>\n",
              "      <td>5.0</td>\n",
              "      <td>\"I used to take another oral contraceptive, wh...</td>\n",
              "      <td>755</td>\n",
              "      <td>17</td>\n",
              "    </tr>\n",
              "  </tbody>\n",
              "</table>\n",
              "</div>\n",
              "      <button class=\"colab-df-convert\" onclick=\"convertToInteractive('df-efabca65-8f48-4ea5-a5b4-4d1cccf5e7c6')\"\n",
              "              title=\"Convert this dataframe to an interactive table.\"\n",
              "              style=\"display:none;\">\n",
              "        \n",
              "  <svg xmlns=\"http://www.w3.org/2000/svg\" height=\"24px\"viewBox=\"0 0 24 24\"\n",
              "       width=\"24px\">\n",
              "    <path d=\"M0 0h24v24H0V0z\" fill=\"none\"/>\n",
              "    <path d=\"M18.56 5.44l.94 2.06.94-2.06 2.06-.94-2.06-.94-.94-2.06-.94 2.06-2.06.94zm-11 1L8.5 8.5l.94-2.06 2.06-.94-2.06-.94L8.5 2.5l-.94 2.06-2.06.94zm10 10l.94 2.06.94-2.06 2.06-.94-2.06-.94-.94-2.06-.94 2.06-2.06.94z\"/><path d=\"M17.41 7.96l-1.37-1.37c-.4-.4-.92-.59-1.43-.59-.52 0-1.04.2-1.43.59L10.3 9.45l-7.72 7.72c-.78.78-.78 2.05 0 2.83L4 21.41c.39.39.9.59 1.41.59.51 0 1.02-.2 1.41-.59l7.78-7.78 2.81-2.81c.8-.78.8-2.07 0-2.86zM5.41 20L4 18.59l7.72-7.72 1.47 1.35L5.41 20z\"/>\n",
              "  </svg>\n",
              "      </button>\n",
              "      \n",
              "  <style>\n",
              "    .colab-df-container {\n",
              "      display:flex;\n",
              "      flex-wrap:wrap;\n",
              "      gap: 12px;\n",
              "    }\n",
              "\n",
              "    .colab-df-convert {\n",
              "      background-color: #E8F0FE;\n",
              "      border: none;\n",
              "      border-radius: 50%;\n",
              "      cursor: pointer;\n",
              "      display: none;\n",
              "      fill: #1967D2;\n",
              "      height: 32px;\n",
              "      padding: 0 0 0 0;\n",
              "      width: 32px;\n",
              "    }\n",
              "\n",
              "    .colab-df-convert:hover {\n",
              "      background-color: #E2EBFA;\n",
              "      box-shadow: 0px 1px 2px rgba(60, 64, 67, 0.3), 0px 1px 3px 1px rgba(60, 64, 67, 0.15);\n",
              "      fill: #174EA6;\n",
              "    }\n",
              "\n",
              "    [theme=dark] .colab-df-convert {\n",
              "      background-color: #3B4455;\n",
              "      fill: #D2E3FC;\n",
              "    }\n",
              "\n",
              "    [theme=dark] .colab-df-convert:hover {\n",
              "      background-color: #434B5C;\n",
              "      box-shadow: 0px 1px 3px 1px rgba(0, 0, 0, 0.15);\n",
              "      filter: drop-shadow(0px 1px 2px rgba(0, 0, 0, 0.3));\n",
              "      fill: #FFFFFF;\n",
              "    }\n",
              "  </style>\n",
              "\n",
              "      <script>\n",
              "        const buttonEl =\n",
              "          document.querySelector('#df-efabca65-8f48-4ea5-a5b4-4d1cccf5e7c6 button.colab-df-convert');\n",
              "        buttonEl.style.display =\n",
              "          google.colab.kernel.accessAllowed ? 'block' : 'none';\n",
              "\n",
              "        async function convertToInteractive(key) {\n",
              "          const element = document.querySelector('#df-efabca65-8f48-4ea5-a5b4-4d1cccf5e7c6');\n",
              "          const dataTable =\n",
              "            await google.colab.kernel.invokeFunction('convertToInteractive',\n",
              "                                                     [key], {});\n",
              "          if (!dataTable) return;\n",
              "\n",
              "          const docLinkHtml = 'Like what you see? Visit the ' +\n",
              "            '<a target=\"_blank\" href=https://colab.research.google.com/notebooks/data_table.ipynb>data table notebook</a>'\n",
              "            + ' to learn more about interactive tables.';\n",
              "          element.innerHTML = '';\n",
              "          dataTable['output_type'] = 'display_data';\n",
              "          await google.colab.output.renderOutput(dataTable, element);\n",
              "          const docLink = document.createElement('div');\n",
              "          docLink.innerHTML = docLinkHtml;\n",
              "          element.appendChild(docLink);\n",
              "        }\n",
              "      </script>\n",
              "    </div>\n",
              "  </div>\n",
              "  "
            ],
            "text/plain": [
              "                      condition               date  ... review_length  usefulCount\n",
              "0  left ventricular dysfunction       May 20, 2012  ...            79           27\n",
              "1                          adhd     April 27, 2010  ...           741          192\n",
              "2                 birth control  December 14, 2009  ...           755           17\n",
              "\n",
              "[3 rows x 8 columns]"
            ]
          },
          "metadata": {},
          "execution_count": 90
        }
      ]
    },
    {
      "cell_type": "code",
      "source": [
        "drug_dataset.reset_format()\n",
        "\n",
        "drug_dataset[\"train\"][:3]"
      ],
      "metadata": {
        "colab": {
          "base_uri": "https://localhost:8080/"
        },
        "id": "M3BiOP-9pIf1",
        "outputId": "9ba7488f-b1cc-4a46-ab10-2c8636f68990"
      },
      "execution_count": 91,
      "outputs": [
        {
          "output_type": "execute_result",
          "data": {
            "text/plain": [
              "{'condition': ['left ventricular dysfunction', 'adhd', 'birth control'],\n",
              " 'date': ['May 20, 2012', 'April 27, 2010', 'December 14, 2009'],\n",
              " 'drugName': ['Valsartan', 'Guanfacine', 'Lybrel'],\n",
              " 'patient_id': [206461, 95260, 92703],\n",
              " 'rating': [9.0, 8.0, 5.0],\n",
              " 'review': ['\"It has no side effect, I take it in combination of Bystolic 5 Mg and Fish Oil\"',\n",
              "  '\"My son is halfway through his fourth week of Intuniv. We became concerned when he began this last week, when he started taking the highest dose he will be on. For two days, he could hardly get out of bed, was very cranky, and slept for nearly 8 hours on a drive home from school vacation (very unusual for him.) I called his doctor on Monday morning and she said to stick it out a few days. See how he did at school, and with getting up in the morning. The last two days have been problem free. He is MUCH more agreeable than ever. He is less emotional (a good thing), less cranky. He is remembering all the things he should. Overall his behavior is better. \\r\\nWe have tried many different medications and so far this is the most effective.\"',\n",
              "  '\"I used to take another oral contraceptive, which had 21 pill cycle, and was very happy- very light periods, max 5 days, no other side effects. But it contained hormone gestodene, which is not available in US, so I switched to Lybrel, because the ingredients are similar. When my other pills ended, I started Lybrel immediately, on my first day of period, as the instructions said. And the period lasted for two weeks. When taking the second pack- same two weeks. And now, with third pack things got even worse- my third period lasted for two weeks and now it&#039;s the end of the third week- I still have daily brown discharge.\\r\\nThe positive side is that I didn&#039;t have any other side effects. The idea of being period free was so tempting... Alas.\"'],\n",
              " 'review_length': [79, 741, 755],\n",
              " 'usefulCount': [27, 192, 17]}"
            ]
          },
          "metadata": {},
          "execution_count": 91
        }
      ]
    }
  ]
}