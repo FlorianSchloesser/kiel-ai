{
  "nbformat": 4,
  "nbformat_minor": 0,
  "metadata": {
    "colab": {
      "provenance": []
    },
    "kernelspec": {
      "name": "python3",
      "display_name": "Python 3"
    },
    "language_info": {
      "name": "python"
    }
  },
  "cells": [
    {
      "cell_type": "markdown",
      "source": [
        "# Homework for Session 3 - Introduction to LangChain\n",
        "## Working with LangChain Models, Prompts and Chains\n",
        "**Due 14.11.2023**\n",
        "\n",
        "This Jupyter notebook contains a demo application and additional tasks related to the demo application. You should read the tasks at the bottom of this notebook first and then work through this notebook. To use this notebook, you need an API key from an LLM provider. The two implemented options are OpenAI's *gpt-3.5-turbo* model, which costs a bit of money but it shouldn't cost more than a few cents to work through this notebook, and Coheres chat model, which can be used for free via a free trial API key.\n",
        "\n",
        "You can get your API keys after registering here: \\\n",
        "[OpenAI API key](https://platform.openai.com/api-keys) \\\n",
        "[Cohere API key](https://dashboard.cohere.com/api-keys)"
      ],
      "metadata": {
        "id": "YPA1bMyJ5UXi"
      }
    },
    {
      "cell_type": "markdown",
      "source": [
        "### Installing LangChain and OpenAI/Cohere\n",
        "\n",
        "For this notebook we will install specific versions of the libraries since OpenAI released version 1.0.0 on 05.11.2023 and this version had changes that didn't work with the newest version of LangChain. If you run into troubles feel free to reach out via Mattermost."
      ],
      "metadata": {
        "id": "HpxN1VDJ7L1o"
      }
    },
    {
      "cell_type": "code",
      "execution_count": null,
      "metadata": {
        "id": "5vp-S6hrVRqh"
      },
      "outputs": [],
      "source": [
        "!pip install langchain==0.0.331\n",
        "!pip install openai==0.28.1\n",
        "!pip install cohere"
      ]
    },
    {
      "cell_type": "markdown",
      "source": [
        "### Example application"
      ],
      "metadata": {
        "id": "A9lhILfE7u80"
      }
    },
    {
      "cell_type": "code",
      "source": [
        "from langchain.chat_models import ChatOpenAI, ChatCohere\n",
        "from langchain.prompts import ChatPromptTemplate\n",
        "from langchain.chains import LLMChain\n",
        "from langchain.chains import SequentialChain\n",
        "import getpass"
      ],
      "metadata": {
        "id": "e6lYjLM9VbTt"
      },
      "execution_count": null,
      "outputs": []
    },
    {
      "cell_type": "markdown",
      "source": [
        "#### Choosing the LLM\n",
        "\n",
        "In this example we provide two options, but you can try and replace it with any other supported chat LLM if you want to.\n",
        "\n",
        "[LangChain supported chat models](https://python.langchain.com/docs/integrations/chat/)"
      ],
      "metadata": {
        "id": "yM7KZl-h-Lds"
      }
    },
    {
      "cell_type": "code",
      "source": [
        "OPENAI_API_KEY = getpass.getpass(\"Enter your OpenAI API key: \")\n",
        "# COHERE_API_KEY = getpass.getpass(\"Enter your Cohere API key: \")"
      ],
      "metadata": {
        "id": "6mUttUVBc5Ia"
      },
      "execution_count": null,
      "outputs": []
    },
    {
      "cell_type": "code",
      "source": [
        "llm = ChatOpenAI(model_name=\"gpt-3.5-turbo\", temperature=0.5, openai_api_key=OPENAI_API_KEY)\n",
        "# llm = ChatCohere(temperature=0.5, cohere_api_key=COHERE_API_KEY)"
      ],
      "metadata": {
        "id": "hcRQanIDV6gs"
      },
      "execution_count": null,
      "outputs": []
    },
    {
      "cell_type": "code",
      "source": [
        "classification_prompt = ChatPromptTemplate.from_template(\n",
        "    \"\"\"\n",
        "    You will be provided with an e-mail received by a recipient. \\\n",
        "    The e-mail will be delimited by triple backticks. \\\n",
        "    Classify the e-mail into one of the following e-mail categories \\\n",
        "    and answer only with the category it belongs to. \\\n",
        "\n",
        "    Categories:\n",
        "    1. Newsletter\n",
        "    2. Business\n",
        "    3. Order Confirmation\n",
        "\n",
        "    Examples:\n",
        "    E-Mail: ```E-Mail content```\n",
        "    Response: Newsletter\n",
        "\n",
        "    E-Mail: ```E-Mail content```\n",
        "    Response: Business\n",
        "\n",
        "    E-Mail: ```E-Mail content```\n",
        "    Response: Order Confirmation\n",
        "\n",
        "    E-Mail: ```{email}```\n",
        "    \"\"\"\n",
        ")\n",
        "\n",
        "classification_chain = LLMChain(\n",
        "    llm=llm,\n",
        "    prompt=classification_prompt,\n",
        "    output_key=\"mailtype\"\n",
        ")"
      ],
      "metadata": {
        "id": "mP76XCanWMe2"
      },
      "execution_count": null,
      "outputs": []
    },
    {
      "cell_type": "code",
      "source": [
        "summarization_prompt = ChatPromptTemplate.from_template(\n",
        "    \"\"\"\n",
        "    Your task is to generate a short summary of a {mailtype} e-mail \\\n",
        "    to inform the recipient of the e-mail about the most important \\\n",
        "    information within the e-mail.\n",
        "\n",
        "    Summarize the e-amil below, delimited by triple\n",
        "    backticks, in at most 50 words focusing on the most important aspects \\\n",
        "    of the e-mail.\n",
        "\n",
        "    E-Mail: ```{email}```\n",
        "    \"\"\"\n",
        ")\n",
        "\n",
        "summarization_chain = LLMChain(\n",
        "    llm=llm,\n",
        "    prompt=summarization_prompt,\n",
        "    output_key=\"summary\"\n",
        ")"
      ],
      "metadata": {
        "id": "jlkCPrFjWlWF"
      },
      "execution_count": null,
      "outputs": []
    },
    {
      "cell_type": "code",
      "source": [
        "email_answer_prompt = ChatPromptTemplate.from_template(\n",
        "    \"\"\"\n",
        "      If the type of the email is 'Business', please draft a response to the email provided below in triple backticks. Otherwise, kindly provide a brief explanation as to why an answer email draft cannot be provided.\n",
        "\n",
        "      E-Mail Type: {mailtype}\n",
        "      E-Mail: ```{email}```\n",
        "    \"\"\"\n",
        ")\n",
        "\n",
        "email_answer_chain = LLMChain(\n",
        "    llm=llm,\n",
        "    prompt=email_answer_prompt,\n",
        "    output_key=\"email_answer\"\n",
        ")"
      ],
      "metadata": {
        "id": "ggcBfeKpWmHh"
      },
      "execution_count": null,
      "outputs": []
    },
    {
      "cell_type": "code",
      "source": [
        "main_chain = SequentialChain(\n",
        "    chains=[classification_chain, summarization_chain, email_answer_chain],\n",
        "    input_variables=[\"email\"],\n",
        "    output_variables=[\"summary\", \"email_answer\", \"mailtype\"],\n",
        "    verbose=True\n",
        ")"
      ],
      "metadata": {
        "id": "HO6BFxDxX95m"
      },
      "execution_count": null,
      "outputs": []
    },
    {
      "cell_type": "markdown",
      "source": [
        "### Example inputs"
      ],
      "metadata": {
        "id": "9LKHSm_6-BBP"
      }
    },
    {
      "cell_type": "markdown",
      "source": [
        "#### Example 1"
      ],
      "metadata": {
        "id": "pYqjcYPi-EK0"
      }
    },
    {
      "cell_type": "code",
      "source": [
        "example_1 = \"\"\"\n",
        "Dear Mr. Smith,\n",
        "\n",
        "I hope this email finds you well. I'm Emily Parker from XYZ Solutions. I came across Acme Innovations and was impressed by your recent market expansion. I believe there's potential for us to collaborate on developing a new software solution. Would you be available for a brief call next week to discuss this further?\n",
        "\n",
        "Looking forward to your response.\n",
        "\n",
        "Best regards,\n",
        "\n",
        "Emily Parker\n",
        "Business Development Manager\n",
        "XYZ Solutions\n",
        "Email: emily.parker@xyzsolutions.com\n",
        "Phone: +1-555-123-9876\n",
        "\"\"\""
      ],
      "metadata": {
        "id": "supQAQ1ebuQh"
      },
      "execution_count": null,
      "outputs": []
    },
    {
      "cell_type": "code",
      "source": [
        "result = main_chain(example_1)"
      ],
      "metadata": {
        "id": "FOwqsjpnb54x"
      },
      "execution_count": null,
      "outputs": []
    },
    {
      "cell_type": "code",
      "source": [
        "for key in result.keys():\n",
        "  print(f\"{key}:\")\n",
        "  print(result[key])\n",
        "  print(\"\\n\\n\")"
      ],
      "metadata": {
        "id": "eAFJrUcxqBI-"
      },
      "execution_count": null,
      "outputs": []
    },
    {
      "cell_type": "markdown",
      "source": [
        "#### Example 2"
      ],
      "metadata": {
        "id": "lcZfy0wh-GMO"
      }
    },
    {
      "cell_type": "code",
      "source": [
        "example_2 = \"\"\"\n",
        "Hi there,\n",
        "\n",
        "Welcome to TechVibe Innovations' monthly scoop! Here's a glimpse of what we've got:\n",
        "\n",
        "1. Unveiling Our Stellar Phoenix Series\n",
        "The newest in tech—meet the game-changer enhancing your experience.\n",
        "\n",
        "2. AI in Healthcare: The Next Frontier\n",
        "Explore how AI is shaping the future of healthcare in our exclusive insight.\n",
        "\n",
        "3. Meet Our Ethical AI Expert\n",
        "Dr. Jane Doe talks about AI ethics in an unmissable interview.\n",
        "\n",
        "Get ahead with our blog! Subscribe for deep dives, tips, and more.\n",
        "\n",
        "We want your thoughts! Share your ideas for future newsletters.\n",
        "\n",
        "Thanks for being part of our innovation journey!\n",
        "\n",
        "Best,\n",
        "TechVibe Innovations Team\n",
        "  \"\"\""
      ],
      "metadata": {
        "id": "f3By1tF8jYZm"
      },
      "execution_count": null,
      "outputs": []
    },
    {
      "cell_type": "code",
      "source": [
        "result = main_chain(example_2)"
      ],
      "metadata": {
        "id": "dIIxzRvKjj6z"
      },
      "execution_count": null,
      "outputs": []
    },
    {
      "cell_type": "code",
      "source": [
        "for key in result.keys():\n",
        "  print(f\"{key}:\")\n",
        "  print(result[key])\n",
        "  print(\"\\n\\n\")"
      ],
      "metadata": {
        "id": "_RvMzMFzj6ql"
      },
      "execution_count": null,
      "outputs": []
    },
    {
      "cell_type": "markdown",
      "source": [
        "#### Example 3"
      ],
      "metadata": {
        "id": "L9Qzp_aD-IEO"
      }
    },
    {
      "cell_type": "code",
      "source": [
        "example_3 = \"\"\"\n",
        "Dear Customer,\n",
        "\n",
        "Thank you for your recent order with SuperGadgets Inc.\n",
        "\n",
        "Here are the details:\n",
        "\n",
        "Order Number: #56789\n",
        "Order Date: November 6, 2023\n",
        "Delivery Address: 1234 Elm Street, Anytown, USA\n",
        "\n",
        "Items Ordered:\n",
        "\n",
        "1. Blue Backpack x 2\n",
        "2. Wireless Earbuds x 1\n",
        "\n",
        "Total Amount: $89.99 (incl. shipping & tax)\n",
        "\n",
        "Your order is being processed and will be shipped soon. You'll receive tracking details once dispatched.\n",
        "\n",
        "For any questions, reach out to us at support@supergadgets.com or call 800-123-4567. View our return policy here.\n",
        "\n",
        "Best Regards,\n",
        "SuperGadgets Inc. Team\n",
        "\"\"\""
      ],
      "metadata": {
        "id": "YAhuUATDtmGs"
      },
      "execution_count": null,
      "outputs": []
    },
    {
      "cell_type": "code",
      "source": [
        "result = main_chain(example_3)"
      ],
      "metadata": {
        "id": "wIhMSirwtw5L"
      },
      "execution_count": null,
      "outputs": []
    },
    {
      "cell_type": "code",
      "source": [
        "for key in result.keys():\n",
        "  print(f\"{key}:\")\n",
        "  print(result[key])\n",
        "  print(\"\\n\\n\")"
      ],
      "metadata": {
        "id": "_x418HsXt1q-"
      },
      "execution_count": null,
      "outputs": []
    },
    {
      "cell_type": "markdown",
      "source": [
        "### Tasks:\n",
        "1. Create a simple sketch showing the flow of the application, the inputs and outputs of the components of the application, and briefly explain in 1-2 sentences what the application does.\n",
        "\n",
        "2. Analyze the code and answer the following questions with a brief explanation:\n",
        "- Does the application produce good results according to the use case?\n",
        "- What happens if you change the order of the chains in the SequentialChain?\n",
        "- What prompting techniques do you recognize in the individual prompts of the used chains\n",
        "- Create a fourth example (e.g. with ChatGPT) for a type that wasn't defined in the prompt. What happens if the type of email doesn't fall into the defined categories?\n",
        "\n",
        "3. Make the following changes to the code:\n",
        "- If some chains don't give meaningful results for some examples, try changing the prompt so that it works. Also check that the other examples still work.\n",
        "- Change the *classification_prompt* to explicitly handle unknown email types.\n",
        "- Add another email type category of your choice to the *classification_prompt* that should also be answered through the *email_answer_chain*.\n",
        "- Add another chain that takes the summary and generates a meaningful headline of up to 10 words.\n",
        "\n",
        "4. Get creative and create your own SequentialChain with at least 3 chains."
      ],
      "metadata": {
        "id": "ankIBoVJuKRO"
      }
    }
  ]
}